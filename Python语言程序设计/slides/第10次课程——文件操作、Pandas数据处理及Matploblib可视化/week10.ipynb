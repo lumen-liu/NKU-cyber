{
 "cells": [
  {
   "cell_type": "markdown",
   "id": "6f01fb69",
   "metadata": {},
   "source": [
    "# Pandas处理缺失数据示例"
   ]
  },
  {
   "cell_type": "code",
   "execution_count": 4,
   "id": "cf73424a",
   "metadata": {},
   "outputs": [
    {
     "name": "stdout",
     "output_type": "stream",
     "text": [
      "df：\n",
      "      A      B\n",
      "0  1.0   0.25\n",
      "1  2.1    NaN\n",
      "2  NaN    NaN\n",
      "3  4.7   4.00\n",
      "4  5.6  12.20\n",
      "df中的元素是否为缺失值：\n",
      "        A      B\n",
      "0  False  False\n",
      "1  False   True\n",
      "2   True   True\n",
      "3  False  False\n",
      "4  False  False\n",
      "用0填充缺失值后的数据：\n",
      "      A      B\n",
      "0  1.0   0.25\n",
      "1  2.1   0.00\n",
      "2  0.0   0.00\n",
      "3  4.7   4.00\n",
      "4  5.6  12.20\n",
      "用字典填充缺失值后的数据：\n",
      "      A      B\n",
      "0  1.0   0.25\n",
      "1  2.1   2.00\n",
      "2  1.0   2.00\n",
      "3  4.7   4.00\n",
      "4  5.6  12.20\n",
      "用每列的平均值填充缺失值后的数据：\n",
      "       A          B\n",
      "0  1.00   0.250000\n",
      "1  2.10   5.483333\n",
      "2  3.35   5.483333\n",
      "3  4.70   4.000000\n",
      "4  5.60  12.200000\n",
      "删除缺失值后的数据：\n",
      "      A      B\n",
      "0  1.0   0.25\n",
      "3  4.7   4.00\n",
      "4  5.6  12.20\n",
      "线性插值法填充缺失值后的数据：\n",
      "      A      B\n",
      "0  1.0   0.25\n",
      "1  2.1   1.50\n",
      "2  3.4   2.75\n",
      "3  4.7   4.00\n",
      "4  5.6  12.20\n",
      "多项式插值法填充缺失值后的数据：\n",
      "           A       B\n",
      "0  1.000000   0.250\n",
      "1  2.100000  -1.975\n",
      "2  3.433333  -0.725\n",
      "3  4.700000   4.000\n",
      "4  5.600000  12.200\n"
     ]
    }
   ],
   "source": [
    "import pandas as pd\n",
    "import numpy as np\n",
    "df = pd.DataFrame({'A': [1, 2.1, np.nan, 4.7, 5.6], 'B': [.25, np.nan, np.nan, 4, 12.2]})\n",
    "print('df：\\n',df)\n",
    "print('df中的元素是否为缺失值：\\n',pd.isna(df))\n",
    "df1 = df.fillna(0)#用固定值来填充\n",
    "print('用0填充缺失值后的数据：\\n',df1)\n",
    "df2 = df.fillna(value={'A': 1, 'B': 2}) #将A、B列中的NaN分别替换为1、2\n",
    "print('用字典填充缺失值后的数据：\\n',df2)\n",
    "df3 = df.fillna(df.mean()) #用每列的平均值来填充\n",
    "print('用每列的平均值填充缺失值后的数据：\\n',df3)\n",
    "df4 = df.dropna()\n",
    "print('删除缺失值后的数据：\\n',df4)\n",
    "df5=df.interpolate()\n",
    "print('线性插值法填充缺失值后的数据：\\n',df5)\n",
    "df6= df.interpolate(method='polynomial',order=2)\n",
    "print('多项式插值法填充缺失值后的数据：\\n',df6)"
   ]
  },
  {
   "cell_type": "markdown",
   "id": "b05b41a1",
   "metadata": {},
   "source": [
    "# Pandas处理重复数据示例"
   ]
  },
  {
   "cell_type": "code",
   "execution_count": 2,
   "id": "df29ddfb",
   "metadata": {},
   "outputs": [
    {
     "name": "stdout",
     "output_type": "stream",
     "text": [
      "df：\n",
      "      brand style  rating\n",
      "a   YumYum   cup     4.0\n",
      "a   YumYum   cup     4.0\n",
      "b  Indomie   cup     3.5\n",
      "c  Indomie  pack    15.0\n",
      "d  Indomie  pack     5.0\n",
      "对于全列，df的行中是否存在重复项：\n",
      " a    False\n",
      "a     True\n",
      "b    False\n",
      "c    False\n",
      "d    False\n",
      "dtype: bool\n",
      "删除上述重复项后的df：\n",
      "      brand style  rating\n",
      "a   YumYum   cup     4.0\n",
      "b  Indomie   cup     3.5\n",
      "c  Indomie  pack    15.0\n",
      "d  Indomie  pack     5.0\n",
      "对于brand和style列，df的行中是否存在重复项：\n",
      " a    False\n",
      "a     True\n",
      "b    False\n",
      "c    False\n",
      "d     True\n",
      "dtype: bool\n",
      "删除上述重复项后的df：\n",
      "      brand style  rating\n",
      "a   YumYum   cup     4.0\n",
      "b  Indomie   cup     3.5\n",
      "c  Indomie  pack    15.0\n",
      "df的index是否存在重复项：\n",
      " [ True False False False False]\n",
      "删除index重复项后的df：\n",
      "      brand style  rating\n",
      "a   YumYum   cup     4.0\n",
      "b  Indomie   cup     3.5\n",
      "c  Indomie  pack    15.0\n",
      "d  Indomie  pack     5.0\n"
     ]
    }
   ],
   "source": [
    "import pandas as pd\n",
    "df = pd.DataFrame({'brand': ['YumYum', 'YumYum', 'Indomie', 'Indomie', 'Indomie'], 'style': ['cup', 'cup', 'cup', 'pack', 'pack'], 'rating': [4, 4, 3.5, 15, 5]},index=['a', 'a', 'b', 'c', 'd'])\n",
    "print('df：\\n',df)\n",
    "print('对于全列，df的行中是否存在重复项：\\n',df.duplicated())\n",
    "df1=df.drop_duplicates()\n",
    "print('删除上述重复项后的df：\\n',df1)\n",
    "print('对于brand和style列，df的行中是否存在重复项：\\n',df.duplicated(subset= ['brand', 'style']))\n",
    "df2=df.drop_duplicates(subset= ['brand', 'style'])\n",
    "print('删除上述重复项后的df：\\n',df2)\n",
    "print('df的index是否存在重复项：\\n',df.index.duplicated(keep='last'))\n",
    "df3=df[~df.index.duplicated(keep='last')]\n",
    "print('删除index重复项后的df：\\n',df3)"
   ]
  },
  {
   "cell_type": "markdown",
   "id": "014bc13d",
   "metadata": {},
   "source": [
    "# merge方法的用法示例"
   ]
  },
  {
   "cell_type": "code",
   "execution_count": 3,
   "id": "8c68cd4a",
   "metadata": {},
   "outputs": [
    {
     "name": "stdout",
     "output_type": "stream",
     "text": [
      "left:\n",
      "   key1 key2   A   B\n",
      "0   K0   K0  A0  B0\n",
      "1   K1   K1  A1  B1\n",
      "2   K2   K0  A2  B2\n",
      "right:\n",
      "   key1 key2   C   D\n",
      "0   K0   K0  C0  D0\n",
      "1   K1   K0  C1  D1\n",
      "2   K2   K0  C2  D2\n",
      "根据key1列将left和right内连接：\n",
      "   key1 key2_x   A   B key2_y   C   D\n",
      "0   K0     K0  A0  B0     K0  C0  D0\n",
      "1   K1     K1  A1  B1     K0  C1  D1\n",
      "2   K2     K0  A2  B2     K0  C2  D2\n",
      "根据key1和key2列将left和right内连接：\n",
      "   key1 key2   A   B   C   D\n",
      "0   K0   K0  A0  B0  C0  D0\n",
      "1   K2   K0  A2  B2  C2  D2\n",
      "根据key1和key2列将left和right外连接：\n",
      "   key1 key2    A    B    C    D\n",
      "0   K0   K0   A0   B0   C0   D0\n",
      "1   K1   K1   A1   B1  NaN  NaN\n",
      "2   K2   K0   A2   B2   C2   D2\n",
      "3   K1   K0  NaN  NaN   C1   D1\n",
      "根据key1和key2列将left和right左连接：\n",
      "   key1 key2   A   B    C    D\n",
      "0   K0   K0  A0  B0   C0   D0\n",
      "1   K1   K1  A1  B1  NaN  NaN\n",
      "2   K2   K0  A2  B2   C2   D2\n",
      "根据key1和key2列将left和right右连接：\n",
      "   key1 key2    A    B   C   D\n",
      "0   K0   K0   A0   B0  C0  D0\n",
      "1   K1   K0  NaN  NaN  C1  D1\n",
      "2   K2   K0   A2   B2  C2  D2\n"
     ]
    }
   ],
   "source": [
    "import pandas as pd\n",
    "left = pd.DataFrame({'key1': ['K0', 'K1', 'K2'],'key2': ['K0', 'K1', 'K0'],'A': ['A0', 'A1', 'A2'],'B': ['B0', 'B1', 'B2']})\n",
    "right = pd.DataFrame({'key1': ['K0', 'K1', 'K2'],'key2': ['K0', 'K0', 'K0'],'C': ['C0', 'C1', 'C2',], 'D': ['D0', 'D1', 'D2']})\n",
    "print('left:\\n',left)\n",
    "print('right:\\n',right)\n",
    "result1 = pd.merge(left, right, on='key1') #内连接\n",
    "print('根据key1列将left和right内连接：\\n',result1)\n",
    "result2 = pd.merge(left, right, on=['key1', 'key2'])\n",
    "print('根据key1和key2列将left和right内连接：\\n',result2)\n",
    "result3 = pd.merge(left, right, how='outer', on=['key1', 'key2'])\n",
    "print('根据key1和key2列将left和right外连接：\\n',result3)\n",
    "result4 = pd.merge(left, right, how='left', on=['key1', 'key2'])\n",
    "print('根据key1和key2列将left和right左连接：\\n',result4)\n",
    "result5 = pd.merge(left, right, how='right', on=['key1', 'key2'])\n",
    "print('根据key1和key2列将left和right右连接：\\n',result5)"
   ]
  },
  {
   "attachments": {},
   "cell_type": "markdown",
   "id": "065fce94",
   "metadata": {},
   "source": [
    "# join方法的用法示例"
   ]
  },
  {
   "cell_type": "code",
   "execution_count": 6,
   "id": "81979bba",
   "metadata": {
    "scrolled": false
   },
   "outputs": [
    {
     "name": "stdout",
     "output_type": "stream",
     "text": [
      "left:\n",
      "      A   B\n",
      "K0  A0  B0\n",
      "K1  A1  B1\n",
      "K2  A2  B2\n",
      "right:\n",
      "      C   D\n",
      "K0  C0  D0\n",
      "K2  C2  D2\n",
      "K3  C3  D3\n",
      "left和right左连接（join方法）：\n",
      "      A   B    C    D\n",
      "K0  A0  B0   C0   D0\n",
      "K1  A1  B1  NaN  NaN\n",
      "K2  A2  B2   C2   D2\n",
      "left和right左连接（merge方法）：\n",
      "      A   B    C    D\n",
      "K0  A0  B0   C0   D0\n",
      "K1  A1  B1  NaN  NaN\n",
      "K2  A2  B2   C2   D2\n",
      "left和right内连接（join方法）：\n",
      "      A   B   C   D\n",
      "K0  A0  B0  C0  D0\n",
      "K2  A2  B2  C2  D2\n",
      "left和right内连接（merge方法）：\n",
      "      A   B   C   D\n",
      "K0  A0  B0  C0  D0\n",
      "K2  A2  B2  C2  D2\n",
      "left2:\n",
      "   key   A   B\n",
      "0  K0  A0  B0\n",
      "1  K1  A1  B1\n",
      "2  K0  A2  B2\n",
      "left2和right左连接（join方法）：\n",
      "   key   A   B    C    D\n",
      "0  K0  A0  B0   C0   D0\n",
      "1  K1  A1  B1  NaN  NaN\n",
      "2  K0  A2  B2   C0   D0\n",
      "left2和right左连接（merge方法）：\n",
      "   key   A   B    C    D\n",
      "0  K0  A0  B0   C0   D0\n",
      "1  K1  A1  B1  NaN  NaN\n",
      "2  K0  A2  B2   C0   D0\n"
     ]
    }
   ],
   "source": [
    "import pandas as pd\n",
    "left = pd.DataFrame({'A': ['A0', 'A1', 'A2'],'B': ['B0', 'B1', 'B2']},index=['K0', 'K1', 'K2'])\n",
    "right = pd.DataFrame({'C': ['C0', 'C2', 'C3'], 'D': ['D0', 'D2', 'D3']},index=['K0', 'K2', 'K3'])\n",
    "print('left:\\n',left)\n",
    "print('right:\\n',right)\n",
    "result1 = left.join(right)\n",
    "print('left和right左连接（join方法）：\\n',result1)\n",
    "result2 = pd.merge(left, right, left_index=True, right_index=True, how='left')\n",
    "print('left和right左连接（merge方法）：\\n',result2)\n",
    "result3 = left.join(right, how='inner')\n",
    "print('left和right内连接（join方法）：\\n',result3)\n",
    "result4 = pd.merge(left, right, left_index=True, right_index=True, how='inner')\n",
    "print('left和right内连接（merge方法）：\\n',result4)\n",
    "left2 = pd.DataFrame({'key': ['K0', 'K1', 'K0'],'A': ['A0', 'A1', 'A2'],'B': ['B0', 'B1', 'B2']})\n",
    "print('left2:\\n',left2)\n",
    "result5 = left2.join(right,on='key')\n",
    "print('left2和right左连接（join方法）：\\n',result5)\n",
    "result6= pd.merge(left2, right, left_on='key', right_index=True, how='left');\n",
    "print('left2和right左连接（merge方法）：\\n',result6)"
   ]
  },
  {
   "cell_type": "markdown",
   "id": "39ca37dd",
   "metadata": {},
   "source": [
    "# concat方法的用法示例"
   ]
  },
  {
   "cell_type": "code",
   "execution_count": 7,
   "id": "9a83fade",
   "metadata": {},
   "outputs": [
    {
     "name": "stdout",
     "output_type": "stream",
     "text": [
      "df1、df2和df3纵向外拼接：\n",
      "     A   B   C   D\n",
      "0  A0  B0  C0  D0\n",
      "1  A1  B1  C1  D1\n",
      "2  A2  B2  C2  D2\n",
      "3  A3  B3  C3  D3\n",
      "4  A4  B4  C4  D4\n",
      "5  A5  B5  C5  D5\n",
      "6  A6  B6  C6  D6\n",
      "7  A7  B7  C7  D7\n",
      "8  A8  B8  C8  D8\n",
      "df1和df2横向外拼接（concat方法）：\n",
      "    df1                 df2               \n",
      "     A    B    C    D    A    B    C    D\n",
      "0   A0   B0   C0   D0  NaN  NaN  NaN  NaN\n",
      "1   A1   B1   C1   D1  NaN  NaN  NaN  NaN\n",
      "2   A2   B2   C2   D2  NaN  NaN  NaN  NaN\n",
      "3  NaN  NaN  NaN  NaN   A3   B3   C3   D3\n",
      "4  NaN  NaN  NaN  NaN   A4   B4   C4   D4\n",
      "5  NaN  NaN  NaN  NaN   A5   B5   C5   D5\n",
      "df1和df2横向外拼接（join方法）：\n",
      "   A_df1 B_df1 C_df1 D_df1 A_df2 B_df2 C_df2 D_df2\n",
      "0    A0    B0    C0    D0   NaN   NaN   NaN   NaN\n",
      "1    A1    B1    C1    D1   NaN   NaN   NaN   NaN\n",
      "2    A2    B2    C2    D2   NaN   NaN   NaN   NaN\n",
      "3   NaN   NaN   NaN   NaN    A3    B3    C3    D3\n",
      "4   NaN   NaN   NaN   NaN    A4    B4    C4    D4\n",
      "5   NaN   NaN   NaN   NaN    A5    B5    C5    D5\n",
      "df1和df3纵向外拼接：\n",
      "     A   B   C   D\n",
      "0  A0  B0  C0  D0\n",
      "1  A1  B1  C1  D1\n",
      "2  A2  B2  C2  D2\n",
      "6  A6  B6  C6  D6\n",
      "7  A7  B7  C7  D7\n",
      "8  A8  B8  C8  D8\n",
      "df1和df3纵向外拼接并生成新的行标签：\n",
      "     A   B   C   D\n",
      "0  A0  B0  C0  D0\n",
      "1  A1  B1  C1  D1\n",
      "2  A2  B2  C2  D2\n",
      "3  A6  B6  C6  D6\n",
      "4  A7  B7  C7  D7\n",
      "5  A8  B8  C8  D8\n",
      "result1和df4横向内拼接：\n",
      "   result1             df4        \n",
      "        A   B   C   D   B   D   F\n",
      "2      A2  B2  C2  D2  B2  D2  F2\n",
      "3      A3  B3  C3  D3  B3  D3  F3\n",
      "6      A6  B6  C6  D6  B6  D6  F6\n"
     ]
    }
   ],
   "source": [
    "import pandas as pd\n",
    "df1 = pd.DataFrame({'A':['A0','A1','A2'], 'B':['B0','B1','B2'],   'C':['C0','C1','C2'], 'D':['D0','D1','D2']}, index=[0,1,2])\n",
    "df2 = pd.DataFrame({'A':['A3','A4', 'A5'], 'B':['B3','B4', 'B5'],'C': ['C3','C4', 'C5'], 'D':['D3','D4', 'D5']}, index=[3,4,5])\n",
    "df3 = pd.DataFrame({'A':['A6','A7','A8'], 'B':['B6','B7','B8'], 'C':['C6','C7','C8'], 'D':['D6','D7','D8']}, index=[6,7,8])\n",
    "df4 = pd.DataFrame({'B':['B2','B3','B6'], 'D':['D2','D3','D6'], 'F':['F2','F3','F6']}, index=[2,3,6])\n",
    "result1 = pd.concat([df1,df2,df3])\n",
    "print('df1、df2和df3纵向外拼接：\\n',result1)\n",
    "result2=pd.concat([df1,df2],axis=1,keys=['df1','df2'])\n",
    "print('df1和df2横向外拼接（concat方法）：\\n',result2)\n",
    "result3=df1.join(df2, how='outer',lsuffix='_df1',rsuffix='_df2')\n",
    "print('df1和df2横向外拼接（join方法）：\\n',result3)\n",
    "result4=pd.concat([df1,df3])\n",
    "print('df1和df3纵向外拼接：\\n',result4)\n",
    "result5=pd.concat([df1,df3],ignore_index=True)\n",
    "print('df1和df3纵向外拼接并生成新的行标签：\\n',result5)\n",
    "result6=pd.concat([result1,df4], axis=1, join='inner', keys = ['result1','df4'])\n",
    "print('result1和df4横向内拼接：\\n',result6)"
   ]
  },
  {
   "cell_type": "markdown",
   "id": "c5db1a4c",
   "metadata": {},
   "source": [
    "# pivot方法的用法示例"
   ]
  },
  {
   "cell_type": "code",
   "execution_count": 13,
   "id": "c9b75710",
   "metadata": {},
   "outputs": [
    {
     "name": "stdout",
     "output_type": "stream",
     "text": [
      "df:\n",
      "          date variable  value1  value2\n",
      "0  2020-01-01        A       3    13.4\n",
      "1  2020-01-02        A       4    22.0\n",
      "2  2020-01-01        B       6    15.3\n",
      "3  2020-01-02        B       2     7.8\n",
      "4  2020-01-03        B       8     9.4\n",
      "5  2020-01-01        C      10    18.0\n",
      "重塑为以date列为行标签，variable列为列标签，value1列为数值的对象:\n",
      " variable      A    B     C\n",
      "date                      \n",
      "2020-01-01  3.0  6.0  10.0\n",
      "2020-01-02  4.0  2.0   NaN\n",
      "2020-01-03  NaN  8.0   NaN\n",
      "重塑为以date列为行标签，variable列为列标签，value1和value2列为数值的对象:\n",
      "            value1            value2            \n",
      "variable        A    B     C      A     B     C\n",
      "date                                           \n",
      "2020-01-01    3.0  6.0  10.0   13.4  15.3  18.0\n",
      "2020-01-02    4.0  2.0   NaN   22.0   7.8   NaN\n",
      "2020-01-03    NaN  8.0   NaN    NaN   9.4   NaN\n"
     ]
    }
   ],
   "source": [
    "import pandas as pd\n",
    "df =pd.DataFrame({'date': ['2020-01-01', '2020-01-02', '2020-01-01','2020-01-02', '2020-01-03', '2020-01-01'], 'variable': ['A', 'A', 'B', 'B', 'B', 'C'], 'value1': [3,4,6,2,8,10],'value2': [13.4, 22.0, 15.3, 7.8, 9.4, 18.0]})\n",
    "print('df:\\n',df)\n",
    "result1 = df.pivot(index='date',columns='variable',values='value1')\n",
    "print('重塑为以date列为行标签，variable列为列标签，value1列为数值的对象:\\n',result1)\n",
    "result2 = df.pivot(index='date', columns='variable')\n",
    "print('重塑为以date列为行标签，variable列为列标签，value1和value2列为数值的对象:\\n', result2)"
   ]
  },
  {
   "cell_type": "markdown",
   "id": "cd4919bd",
   "metadata": {},
   "source": [
    "# melt方法的用法示例"
   ]
  },
  {
   "cell_type": "code",
   "execution_count": 14,
   "id": "21fcb9fc",
   "metadata": {},
   "outputs": [
    {
     "name": "stdout",
     "output_type": "stream",
     "text": [
      "df:\n",
      "   first last  height  weight\n",
      "0  John  Doe     5.5     130\n",
      "1  Mary   Bo     6.0     150\n",
      "重塑为以first和last列作为标识符，其余列作为测量值的对象:\n",
      "   first last variable  value\n",
      "0  John  Doe   height    5.5\n",
      "1  Mary   Bo   height    6.0\n",
      "2  John  Doe   weight  130.0\n",
      "3  Mary   Bo   weight  150.0\n",
      "重塑为以first和last列作为标识符，height列作为测量值的对象:\n",
      "   first last quantity  value\n",
      "0  John  Doe   height    5.5\n",
      "1  Mary   Bo   height    6.0\n"
     ]
    }
   ],
   "source": [
    "import pandas as pd\n",
    "df = pd.DataFrame({'first': ['John', 'Mary'], 'last': ['Doe', 'Bo'], 'height': [5.5, 6.0], 'weight': [130, 150]})\n",
    "print('df:\\n',df)\n",
    "result1=df.melt(id_vars=['first', 'last'])\n",
    "print('重塑为以first和last列作为标识符，其余列作为测量值的对象:\\n',result1)\n",
    "result2=df.melt(id_vars=['first', 'last'], value_vars='height', var_name='quantity')\n",
    "print('重塑为以first和last列作为标识符，height列作为测量值的对象:\\n', result2)"
   ]
  },
  {
   "cell_type": "markdown",
   "id": "fe2d693e",
   "metadata": {},
   "source": [
    "# 药品销售数据处理实例"
   ]
  },
  {
   "cell_type": "code",
   "execution_count": 16,
   "id": "52020de0",
   "metadata": {},
   "outputs": [
    {
     "name": "stdout",
     "output_type": "stream",
     "text": [
      "前5行数据：\n",
      "              购药时间          社保卡号      商品编码     商品名称  销售数量   应收金额    实收金额\n",
      "0  2018-01-01 星期五  1.616528e+06  236702.0  强力VC银翘片   6.0   82.8   69.00\n",
      "1  2018-01-02 星期六  1.616528e+06  236701.0  清热解毒口服液   1.0   28.0   24.64\n",
      "2  2018-01-06 星期三  1.260283e+07  236704.0       感康   2.0   16.8   15.00\n",
      "3  2018-01-11 星期一  1.007034e+10  236701.0  清热解毒口服液   1.0   28.0   28.00\n",
      "4  2018-01-15 星期五  1.015543e+08  236701.0  清热解毒口服液   8.0  224.0  208.00\n",
      "数据类型规范后的前5行：\n",
      "              购药时间           社保卡号    商品编码     商品名称  销售数量   应收金额    实收金额\n",
      "0  2018-01-01 星期五      001616528  236702  强力VC银翘片   6.0   82.8   69.00\n",
      "1  2018-01-02 星期六      001616528  236701  清热解毒口服液   1.0   28.0   24.64\n",
      "2  2018-01-06 星期三     0012602828  236704       感康   2.0   16.8   15.00\n",
      "3  2018-01-11 星期一  0010070343428  236701  清热解毒口服液   1.0   28.0   28.00\n",
      "4  2018-01-15 星期五    00101554328  236701  清热解毒口服液   8.0  224.0  208.00\n",
      "data的shape属性： (6578, 7)\n",
      "每列缺失值的个数：\n",
      " 销售时间    2\n",
      "社保卡号    2\n",
      "商品编码    1\n",
      "商品名称    1\n",
      "销售数量    1\n",
      "应收金额    1\n",
      "实收金额    1\n",
      "dtype: int64\n",
      "删除缺失值后的shape属性： (6575, 7)\n",
      "重复数据的统计： 0\n",
      "每列缺失值的个数：\n",
      " 销售时间    23\n",
      "社保卡号     0\n",
      "商品编码     0\n",
      "商品名称     0\n",
      "销售数量     0\n",
      "应收金额     0\n",
      "实收金额     0\n",
      "dtype: int64\n",
      "data每列数据类型：\n",
      " 销售时间    datetime64[ns]\n",
      "社保卡号            object\n",
      "商品编码            object\n",
      "商品名称            object\n",
      "销售数量           float64\n",
      "应收金额           float64\n",
      "实收金额           float64\n",
      "dtype: object\n",
      "数据的描述统计信息：\n",
      "               销售数量        应收金额         实收金额\n",
      "count  6552.000000  6552.00000  6552.000000\n",
      "mean      2.384158    50.43025    46.266972\n",
      "std       2.374754    87.68075    81.043956\n",
      "min     -10.000000  -374.00000  -374.000000\n",
      "25%       1.000000    14.00000    12.320000\n",
      "50%       2.000000    28.00000    26.500000\n",
      "75%       2.000000    59.60000    53.000000\n",
      "max      50.000000  2950.00000  2650.000000\n",
      "删除销售数量小于0的数据后的描述统计信息：\n",
      "               销售数量         应收金额         实收金额\n",
      "count  6509.000000  6509.000000  6509.000000\n",
      "mean      2.405285    50.908726    46.709935\n",
      "std       2.364095    87.634645    80.983274\n",
      "min       1.000000     1.200000     0.030000\n",
      "25%       1.000000    14.000000    12.600000\n",
      "50%       2.000000    28.000000    27.000000\n",
      "75%       2.000000    59.600000    53.000000\n",
      "max      50.000000  2950.000000  2650.000000\n",
      "清洗后的数据概览：\n",
      " <bound method DataFrame.info of            销售时间           社保卡号     商品编码     商品名称  销售数量   应收金额    实收金额\n",
      "0    2018-01-01      001616528   236702  强力VC银翘片   6.0   82.8   69.00\n",
      "1    2018-01-02      001616528   236701  清热解毒口服液   1.0   28.0   24.64\n",
      "2    2018-01-06     0012602828   236704       感康   2.0   16.8   15.00\n",
      "3    2018-01-11  0010070343428   236701  清热解毒口服液   1.0   28.0   28.00\n",
      "4    2018-01-15    00101554328   236701  清热解毒口服液   8.0  224.0  208.00\n",
      "...         ...            ...      ...      ...   ...    ...     ...\n",
      "6504 2018-04-27  0010060482828  2367011      高特灵   1.0    5.6    5.00\n",
      "6505 2018-04-27    00107886128  2367011      高特灵  10.0   56.0   54.80\n",
      "6506 2018-04-27  0010087865628  2367011      高特灵   2.0   11.2    9.86\n",
      "6507 2018-04-27     0013406628  2367011      高特灵   1.0    5.6    5.00\n",
      "6508 2018-04-28     0011926928  2367011      高特灵   2.0   11.2   10.00\n",
      "\n",
      "[6509 rows x 7 columns]>\n"
     ]
    }
   ],
   "source": [
    "import pandas as pd\n",
    "data = pd.read_excel('./朝阳医院2018年销售数据.xlsx')\n",
    "print('前5行数据：\\n',data.head())\n",
    "data = pd.read_excel('./朝阳医院2018年销售数据.xlsx',dtype={'社保卡号':str,'商品编码':str})\n",
    "print('数据类型规范后的前5行：\\n',data.head())\n",
    "print('data的shape属性：',data.shape)\n",
    "#重命名'购药时间'列\n",
    "data = data.rename(columns={'购药时间':'销售时间'})\n",
    "#处理缺失值\n",
    "print('每列缺失值的个数：\\n',data.isna().sum()) \n",
    "data=data.dropna(how='any')\n",
    "print('删除缺失值后的shape属性：',data.shape)\n",
    "#检查重复数据\n",
    "print('重复数据的统计：',data.duplicated().sum())\n",
    "#销售时间的数据只保留日期，并转换为日期类型\n",
    "time=data.loc[:,'销售时间'].str.split(' ',expand=True) \n",
    "data.loc[:,'销售时间']=time.loc[:,0] #将分隔后的日期重新赋值为“销售时间”列\n",
    "data.loc[:,'销售时间']=pd.to_datetime(data.loc[:,'销售时间'], format='%Y-%m-%d',errors='coerce')\n",
    "print('每列缺失值的个数：\\n',data.isna().sum())\n",
    "data = data.dropna(subset=['销售时间'])\n",
    "print('data每列数据类型：\\n',data.dtypes)\n",
    "#查看数据的描述统计信息\n",
    "print('数据的描述统计信息：\\n',data.describe())\n",
    "#删除销售数量小于0的数据\n",
    "vec_bool=data.loc[:,'销售数量']>0 #布尔数组\n",
    "data = data.loc[vec_bool,:]\n",
    "print('删除销售数量小于0的数据后的描述统计信息：\\n',data.describe())\n",
    "#重新设置index\n",
    "data=data.reset_index(drop=True)\n",
    "print('清洗后的数据概览：\\n',data.info)"
   ]
  },
  {
   "attachments": {},
   "cell_type": "markdown",
   "id": "4c013542",
   "metadata": {},
   "source": [
    "# plot()函数的用法示例"
   ]
  },
  {
   "cell_type": "code",
   "execution_count": 18,
   "id": "06e44b7c",
   "metadata": {},
   "outputs": [
    {
     "data": {
      "image/png": "[encoded data removed]",
      "text/plain": [
       "<Figure size 432x288 with 2 Axes>"
      ]
     },
     "metadata": {
      "needs_background": "light"
     },
     "output_type": "display_data"
    }
   ],
   "source": [
    "import numpy as np\n",
    "import matplotlib.pyplot as plt\n",
    "x1 = np.linspace(0.0, 5.0)\n",
    "x2 = np.linspace(0.0, 2.0)\n",
    "y1 = np.cos(2 * np.pi * x1) * np.exp(-x1)\n",
    "y2 = np.cos(2 * np.pi * x2)\n",
    "fig, (ax1, ax2) = plt.subplots(2, 1)\n",
    "fig.suptitle('Matplotlib Line')\n",
    "ax1.plot(x1, y1)\n",
    "ax1.set_ylabel('Damped oscillation')\n",
    "ax2.plot(x2, y2, 'o-')\n",
    "ax2.set_xlabel('time (s)')\n",
    "ax2.set_ylabel('Undamped')\n",
    "plt.show()"
   ]
  },
  {
   "cell_type": "code",
   "execution_count": null,
   "id": "dd9c000c",
   "metadata": {},
   "outputs": [],
   "source": []
  }
 ],
 "metadata": {
  "kernelspec": {
   "display_name": "Python 3 (ipykernel)",
   "language": "python",
   "name": "python3"
  },
  "language_info": {
   "codemirror_mode": {
    "name": "ipython",
    "version": 3
   },
   "file_extension": ".py",
   "mimetype": "text/x-python",
   "name": "python",
   "nbconvert_exporter": "python",
   "pygments_lexer": "ipython3",
   "version": "3.9.12"
  }
 },
 "nbformat": 4,
 "nbformat_minor": 5
}
