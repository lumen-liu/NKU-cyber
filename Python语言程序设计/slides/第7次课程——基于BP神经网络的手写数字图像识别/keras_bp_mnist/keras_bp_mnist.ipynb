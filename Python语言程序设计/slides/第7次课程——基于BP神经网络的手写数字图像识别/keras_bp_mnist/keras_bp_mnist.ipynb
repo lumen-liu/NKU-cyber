{
 "cells": [
  {
   "cell_type": "markdown",
   "id": "c22ff3d2",
   "metadata": {},
   "source": [
    "## 基于工具包实现BP网络"
   ]
  },
  {
   "cell_type": "markdown",
   "id": "ee7414a2",
   "metadata": {},
   "source": [
    "### 1、导入包"
   ]
  },
  {
   "cell_type": "code",
   "execution_count": 1,
   "id": "4f035998",
   "metadata": {},
   "outputs": [],
   "source": [
    "import numpy as np\n",
    "from keras.models import Sequential\n",
    "from keras.layers import Dense\n",
    "from tensorflow.keras.optimizers import SGD\n",
    "from keras.utils import np_utils\n",
    "import matplotlib.pyplot as plt\n",
    "from pylab import mpl"
   ]
  },
  {
   "cell_type": "markdown",
   "id": "c7b57f35",
   "metadata": {},
   "source": [
    "### 2、读取数据"
   ]
  },
  {
   "cell_type": "code",
   "execution_count": 2,
   "id": "80278372",
   "metadata": {},
   "outputs": [],
   "source": [
    "def splitdata(datalist):\n",
    "    inputs_list = []\n",
    "    targets_list = []\n",
    "    for record in datalist:\n",
    "        # 将输入去掉','转化为向量\n",
    "        all_values=record.split(',')\n",
    "        # 对数据进行归一化操作转化为0到1间float类型的数字\n",
    "        inputs=np.asfarray(all_values[1:])/255\n",
    "        # 定义并初始化标签向量\n",
    "        targets=np.zeros(10)\n",
    "        # 将targets数组的第标签个分量的输出置为1，即编码成One-Hot形式\n",
    "        targets[int(all_values[0])]=1\n",
    "        inputs_list.append(inputs)\n",
    "        targets_list.append(targets)\n",
    "    return np.array(inputs_list), np.array(targets_list)\n",
    "\n",
    "# 打开训练数据集\n",
    "train_data_file=open('./mnist_dataset_csv/mnist_train.csv','r')\n",
    "# 得到数据，一行代表一个输入\n",
    "train_data_list=train_data_file.readlines()\n",
    "train_data_file.close()\n",
    "train_inputs,train_targets = splitdata(train_data_list)\n",
    "\n",
    "# 打开测试数据集\n",
    "test_data_file = open('./mnist_dataset_csv/mnist_test.csv', 'r')\n",
    "test_data_list = test_data_file.readlines()\n",
    "test_data_file.close()\n",
    "test_inputs,test_targets = splitdata(test_data_list)"
   ]
  },
  {
   "cell_type": "markdown",
   "id": "178b387b",
   "metadata": {},
   "source": [
    "### 3、定义神经网络模型"
   ]
  },
  {
   "cell_type": "code",
   "execution_count": 3,
   "id": "73326303",
   "metadata": {},
   "outputs": [],
   "source": [
    "# 定义用于创建神经网络模型的函数\n",
    "def create_model(num_inputs, hidden_nodes, num_classes):\n",
    "    model = Sequential()\n",
    "    # 定义隐藏层单元和输入层神经元，使用normal distribution正态分布来初始化权重(weight)和偏差，激活函数为'sigmoid'\n",
    "    model.add(Dense(units=hidden_nodes, input_dim=num_inputs, kernel_initializer='normal',  activation='sigmoid'))\n",
    "    # 定义输出层神经元，神经元个数为标签数，激活函数为‘sigmoid’\n",
    "    model.add(Dense(units=num_classes, kernel_initializer='normal', activation='sigmoid'))\n",
    "    # 编译模型\n",
    "    model.compile(loss='categorical_crossentropy', optimizer=SGD(lr=0.1), metrics=['accuracy'])\n",
    "    return model"
   ]
  },
  {
   "cell_type": "markdown",
   "id": "ec83265f",
   "metadata": {},
   "source": [
    "### 4、定义评测函数"
   ]
  },
  {
   "cell_type": "code",
   "execution_count": 4,
   "id": "79509bc0",
   "metadata": {},
   "outputs": [],
   "source": [
    "# 得分函数，在测试集上进行一次测试\n",
    "def score(nn, inputs, targets):\n",
    "    # 通过类方法query输出test数据集中的每一个样本的目标值和预测值进行对比。\n",
    "    scorecord = []\n",
    "    outputs = nn.predict(inputs)\n",
    "    for i in range(outputs.shape[0]):\n",
    "        # 每个数据的目标值\n",
    "        correct_label = np.argmax(targets[i])\n",
    "        # 每个数据的预测值\n",
    "        label = np.argmax(outputs[i])\n",
    "        # 预测正确将1加入到scorecord数组，错误加0\n",
    "\n",
    "        if (label == correct_label):\n",
    "            scorecord.append(1)\n",
    "        else:\n",
    "            scorecord.append(0)\n",
    "    # 将列表转化为array\n",
    "    scorecord_array = np.asarray(scorecord)\n",
    "    # 返回准确率\n",
    "    return scorecord_array.sum() / scorecord_array.size"
   ]
  },
  {
   "cell_type": "markdown",
   "id": "e2104a36",
   "metadata": {},
   "source": [
    "### 5、模型训练和测试"
   ]
  },
  {
   "cell_type": "code",
   "execution_count": 7,
   "id": "09577779",
   "metadata": {},
   "outputs": [
    {
     "name": "stdout",
     "output_type": "stream",
     "text": [
      "第1次迭代...\n",
      "60000/60000 [==============================] - 105s 2ms/step - loss: 0.2555 - accuracy: 0.9222\n",
      "1875/1875 [==============================] - 2s 1ms/step\n",
      "313/313 [==============================] - 0s 1ms/step\n",
      "训练准确率：0.955450\n",
      "测试准确率：0.951300\n",
      "第2次迭代...\n",
      "60000/60000 [==============================] - 106s 2ms/step - loss: 0.1435 - accuracy: 0.9562\n",
      "1875/1875 [==============================] - 2s 1ms/step\n",
      "313/313 [==============================] - 0s 1ms/step\n",
      "训练准确率：0.964633\n",
      "测试准确率：0.960700\n",
      "第3次迭代...\n",
      "60000/60000 [==============================] - 107s 2ms/step - loss: 0.1194 - accuracy: 0.9632\n",
      "1875/1875 [==============================] - 2s 1ms/step\n",
      "313/313 [==============================] - 0s 1ms/step\n",
      "训练准确率：0.967933\n",
      "测试准确率：0.959600\n",
      "第4次迭代...\n",
      "60000/60000 [==============================] - 116s 2ms/step - loss: 0.1045 - accuracy: 0.9681\n",
      "1875/1875 [==============================] - 2s 1ms/step\n",
      "313/313 [==============================] - 0s 1ms/step\n",
      "训练准确率：0.974583\n",
      "测试准确率：0.963000\n",
      "第5次迭代...\n",
      "60000/60000 [==============================] - 108s 2ms/step - loss: 0.0959 - accuracy: 0.9697\n",
      "1875/1875 [==============================] - 2s 1ms/step\n",
      "313/313 [==============================] - 0s 1ms/step\n",
      "训练准确率：0.978233\n",
      "测试准确率：0.965600\n",
      "第6次迭代...\n",
      "60000/60000 [==============================] - 109s 2ms/step - loss: 0.0865 - accuracy: 0.9729\n",
      "1875/1875 [==============================] - 2s 1ms/step\n",
      "313/313 [==============================] - 0s 1ms/step\n",
      "训练准确率：0.977100\n",
      "测试准确率：0.963200\n",
      "第7次迭代...\n",
      "60000/60000 [==============================] - 112s 2ms/step - loss: 0.0799 - accuracy: 0.9740\n",
      "1875/1875 [==============================] - 2s 1ms/step\n",
      "313/313 [==============================] - 0s 1ms/step\n",
      "训练准确率：0.978917\n",
      "测试准确率：0.966200\n",
      "第8次迭代...\n",
      "60000/60000 [==============================] - 106s 2ms/step - loss: 0.0719 - accuracy: 0.9773\n",
      "1875/1875 [==============================] - 2s 1ms/step\n",
      "313/313 [==============================] - 0s 1ms/step\n",
      "训练准确率：0.980567\n",
      "测试准确率：0.966900\n",
      "第9次迭代...\n",
      "60000/60000 [==============================] - 107s 2ms/step - loss: 0.0655 - accuracy: 0.9785\n",
      "1875/1875 [==============================] - 2s 1ms/step\n",
      "313/313 [==============================] - 0s 1ms/step\n",
      "训练准确率：0.984283\n",
      "测试准确率：0.967400\n",
      "第10次迭代...\n",
      "60000/60000 [==============================] - 109s 2ms/step - loss: 0.0615 - accuracy: 0.9807\n",
      "1875/1875 [==============================] - 2s 1ms/step\n",
      "313/313 [==============================] - 0s 1ms/step\n",
      "训练准确率：0.979700\n",
      "测试准确率：0.960600\n"
     ]
    }
   ],
   "source": [
    "# 创建一个神经网络（隐层有50个神经元），并进行训练\n",
    "model = create_model(train_inputs.shape[1], 50, train_targets.shape[1])\n",
    "train_scores=[]\n",
    "test_scores=[]\n",
    "for e in range(10):\n",
    "    print('第%d次迭代...'%(e+1))\n",
    "    model.fit(x=train_inputs, y=train_targets, epochs=1, batch_size=1)\n",
    "    train_scores.append(score(model,train_inputs,train_targets))\n",
    "    test_scores.append(score(model,test_inputs,test_targets))\n",
    "    print('训练准确率：%f'%train_scores[e])\n",
    "    print('测试准确率：%f'%test_scores[e])"
   ]
  },
  {
   "cell_type": "markdown",
   "id": "58cbd804",
   "metadata": {},
   "source": [
    "### 6、结果的图形化显示"
   ]
  },
  {
   "cell_type": "code",
   "execution_count": 9,
   "id": "7f428803",
   "metadata": {
    "scrolled": true
   },
   "outputs": [
    {
     "data": {
      "image/png": "[encoded data removed]",
      "text/plain": [
       "<Figure size 1000x400 with 1 Axes>"
      ]
     },
     "metadata": {},
     "output_type": "display_data"
    }
   ],
   "source": [
    "#优化matplotlib汉字显示乱码的问题\n",
    "mpl.rcParams['font.sans-serif'] = ['FangSong']\n",
    "mpl.rcParams['axes.unicode_minus'] = False\n",
    "\n",
    "plt.figure(figsize=(10,4))\n",
    "plt.xlabel('迭代轮数')  # x轴标签\n",
    "plt.ylabel('准确率')  # y轴标签\n",
    "plt.plot(range(1,11),train_scores,c='red',label='训练准确率')\n",
    "plt.plot(range(1,11),test_scores,c='blue',label='测试准确率')\n",
    "plt.legend(loc='best')\n",
    "plt.grid(True)  # 产生网格\n",
    "plt.show()  # 显示图像"
   ]
  },
  {
   "cell_type": "markdown",
   "id": "a73dfc7c",
   "metadata": {},
   "source": [
    "## 自己编程实现BP网络"
   ]
  },
  {
   "cell_type": "markdown",
   "id": "c18c7c09",
   "metadata": {},
   "source": [
    "### 1、导入包"
   ]
  },
  {
   "cell_type": "code",
   "execution_count": 10,
   "id": "1f50d834",
   "metadata": {},
   "outputs": [],
   "source": [
    "import numpy as np\n",
    "import scipy.special\n",
    "import matplotlib.pyplot as plt\n",
    "from pylab import mpl"
   ]
  },
  {
   "cell_type": "markdown",
   "id": "8f82f928",
   "metadata": {},
   "source": [
    "### 2、创建神经网络类NeuralNetwork"
   ]
  },
  {
   "cell_type": "code",
   "execution_count": 12,
   "id": "53216584",
   "metadata": {},
   "outputs": [],
   "source": [
    "# 创建神经网络类，以便于实例化成不同的实例\n",
    "class NeuralNetwork:\n",
    "    # 初始函数\n",
    "    def __init__(self, input_nodes,hidden_nodes,output_nodes,learning_rate):\n",
    "        # 初始化输入层、隐藏层、输出层的节点个数\n",
    "        self.inodes=input_nodes\n",
    "        self.hnodes=hidden_nodes\n",
    "        self.onodes=output_nodes\n",
    "        # 初始化输入层与隐藏层之间的初始权重参数\n",
    "        self.wih=np.random.normal(0.0,pow(self.hnodes,-0.5),(self.hnodes,self.inodes))\n",
    "        # 初始化隐藏层与输出层之间的初始权重参数\n",
    "        self.who=np.random.normal(0.0,pow(self.hnodes,-0.5),(self.onodes,self.hnodes))\n",
    "        # 初始化学习率\n",
    "        self.lr=learning_rate\n",
    "        # 定义激活函数为sigmoid\n",
    "        self.activation_function=lambda x: scipy.special.expit(x)\n",
    "    # 训练函数\n",
    "    def train(self,input_list,target_list):\n",
    "        # 将数据的输入和标签转化为列向量\n",
    "        inputs = np.array(input_list, ndmin=2).T\n",
    "        targets = np.array(target_list, ndmin=2).T\n",
    "        # 前向传播过程，隐藏层输入为权重矩阵和输入矩阵做点积\n",
    "        hidden_inputs = np.dot(self.wih, inputs)\n",
    "        # 隐藏层接收的输入经激活函数处理得到隐藏层输出，此处未考虑偏置\n",
    "        hidden_outputs = self.activation_function(hidden_inputs)\n",
    "        # 同理前向传播得到最终输出层\n",
    "        final_inputs = np.dot(self.who, hidden_outputs)\n",
    "        final_outputs = self.activation_function(final_inputs)\n",
    "        # 预测与实际相减得到偏差矩阵\n",
    "        output_errors = targets - final_outputs\n",
    "        # 根据(A.62)计算得到delta\n",
    "        delta = output_errors * final_outputs * (1 - final_outputs)\n",
    "        # 根据(A.60)更新隐藏层到输出层的权重矩阵\n",
    "        self.who += self.lr * np.dot(delta, np.transpose(hidden_outputs))\n",
    "        # 根据(A.60)和(A.63)更新输入层到隐藏层的权重矩阵\n",
    "        self.wih += self.lr * np.dot((np.dot(self.who.T, delta) * hidden_outputs * (1 - hidden_outputs)), (np.transpose(inputs)))\n",
    "\n",
    "    # predict功能，预测新样本的种类\n",
    "    def predict(self,inputs_list):\n",
    "        # 转换输入矩阵为列向量\n",
    "        inputs=np.array(inputs_list,ndmin=2).T\n",
    "        # 前向传播得到最终输出结果\n",
    "        hidden_inputs=np.dot(self.wih,inputs)\n",
    "        hidden_outputs=self.activation_function(hidden_inputs)\n",
    "        final_inputs=np.dot(self.who,hidden_outputs)\n",
    "        final_outputs=self.activation_function(final_inputs)\n",
    "        return final_outputs\n",
    "\n",
    "    # 得分函数，在测试集上进行一次测试\n",
    "    def score(self, inputs, targets):\n",
    "        # 通过类方法query输出test数据集中的每一个样本的目标值和预测值进行对比。\n",
    "        scorecord = []\n",
    "        for i in range(len(inputs)):\n",
    "            # 每个数据的目标值\n",
    "            correct_label = np.argmax(targets[i])\n",
    "            # 每个数据的预测值\n",
    "            outputs = self.predict(inputs[i])\n",
    "            label = np.argmax(outputs)\n",
    "            # 预测正确将1加入到scorecord数组，错误加0\n",
    "            if (label == correct_label):\n",
    "                scorecord.append(1)\n",
    "            else:\n",
    "                scorecord.append(0)\n",
    "        # 将列表转化为array\n",
    "        scorecord_array = np.asarray(scorecord)\n",
    "        # 返回精度\n",
    "        return scorecord_array.sum() / scorecord_array.size"
   ]
  },
  {
   "cell_type": "markdown",
   "id": "32943900",
   "metadata": {},
   "source": [
    "### 3、神经网络训练和测试"
   ]
  },
  {
   "cell_type": "code",
   "execution_count": 13,
   "id": "6e1bf3fb",
   "metadata": {},
   "outputs": [
    {
     "name": "stdout",
     "output_type": "stream",
     "text": [
      "第1次迭代...\n",
      "训练准确率：0.931217\n",
      "测试准确率：0.932400\n",
      "第2次迭代...\n",
      "训练准确率：0.950783\n",
      "测试准确率：0.949200\n",
      "第3次迭代...\n",
      "训练准确率：0.960200\n",
      "测试准确率：0.955800\n",
      "第4次迭代...\n",
      "训练准确率：0.965500\n",
      "测试准确率：0.960200\n",
      "第5次迭代...\n",
      "训练准确率：0.969417\n",
      "测试准确率：0.961900\n"
     ]
    }
   ],
   "source": [
    "# 手写数字为28*28大小，所以在变成一维数据之后，需要有这么多的输入点，隐藏层神经元可以自行定义；输出层神经元为分类的总个数\n",
    "input_nodes = 784\n",
    "hidden_nodes = 50\n",
    "output_nodes = 10\n",
    "# 定义学习率\n",
    "learning_rate = 0.1\n",
    "# 进行epochs设定\n",
    "epochs=5\n",
    "\n",
    "def splitdata(datalist):\n",
    "    inputs_list = []\n",
    "    targets_list = []\n",
    "    for record in datalist:\n",
    "        # 将输入去掉','转化为向量\n",
    "        all_values=record.split(',')\n",
    "        # 对数据进行归一化操作转化为0到1间float类型的数字\n",
    "        inputs=np.asfarray(all_values[1:])/255\n",
    "        # 定义并初始化标签向量\n",
    "        targets=np.zeros(output_nodes)\n",
    "        # 将targets数组的第标签个分量的输出置为1，即编码成One-Hot形式\n",
    "        targets[int(all_values[0])]=1\n",
    "        inputs_list.append(inputs)\n",
    "        targets_list.append(targets)\n",
    "    return inputs_list, targets_list\n",
    "\n",
    "# 打开训练数据集\n",
    "train_data_file=open('./mnist_dataset_csv/mnist_train.csv','r')\n",
    "# 得到数据，一行代表一个输入\n",
    "train_data_list=train_data_file.readlines()\n",
    "train_data_file.close()\n",
    "train_inputs,train_targets = splitdata(train_data_list)\n",
    "\n",
    "# 打开测试数据集\n",
    "test_data_file = open('./mnist_dataset_csv/mnist_test.csv', 'r')\n",
    "test_data_list = test_data_file.readlines()\n",
    "test_data_file.close()\n",
    "test_inputs,test_targets = splitdata(test_data_list)\n",
    "\n",
    "# 用我们的类创建一个神经网络实例\n",
    "nn=NeuralNetwork(input_nodes, hidden_nodes, output_nodes, learning_rate)\n",
    "# 定义分数矩阵，方便后续画图\n",
    "train_scores=[]\n",
    "test_scores=[]\n",
    "for e in range(epochs):\n",
    "    print('第%d次迭代...'%(e+1))\n",
    "    # 对每个数据进行一次训练\n",
    "    for i in range(len(train_inputs)):\n",
    "        # 训练网络更新权重值\n",
    "        nn.train(train_inputs[i],train_targets[i])\n",
    "    # 将分数加到分数数组\n",
    "    train_scores.append(nn.score(train_inputs,train_targets))\n",
    "    test_scores.append(nn.score(test_inputs,test_targets))\n",
    "    print('训练准确率：%f'%train_scores[e])\n",
    "    print('测试准确率：%f'%test_scores[e])"
   ]
  },
  {
   "cell_type": "markdown",
   "id": "b4adce0d",
   "metadata": {},
   "source": [
    "### 4、结果的图形化展示"
   ]
  },
  {
   "cell_type": "code",
   "execution_count": 14,
   "id": "120f1e73",
   "metadata": {},
   "outputs": [
    {
     "data": {
      "image/png": "[encoded data removed]",
      "text/plain": [
       "<Figure size 1000x400 with 1 Axes>"
      ]
     },
     "metadata": {},
     "output_type": "display_data"
    }
   ],
   "source": [
    "#优化matplotlib汉字显示乱码的问题\n",
    "mpl.rcParams['font.sans-serif'] = ['FangSong']\n",
    "mpl.rcParams['axes.unicode_minus'] = False\n",
    "\n",
    "plt.figure(figsize=(10,4))\n",
    "plt.xlabel('迭代轮数')  # x轴标签\n",
    "plt.ylabel('准确率')  # y轴标签\n",
    "plt.plot(range(1,6),train_scores,c='red',label='训练准确率')\n",
    "plt.plot(range(1,6),test_scores,c='blue',label='测试准确率')\n",
    "plt.legend(loc='best')\n",
    "plt.grid(True)  # 产生网格\n",
    "plt.show()  # 显示图像"
   ]
  },
  {
   "cell_type": "code",
   "execution_count": null,
   "id": "db212e92",
   "metadata": {},
   "outputs": [],
   "source": []
  }
 ],
 "metadata": {
  "kernelspec": {
   "display_name": "Python 3.10.6 64-bit ('pytorch')",
   "language": "python",
   "name": "python3"
  },
  "language_info": {
   "codemirror_mode": {
    "name": "ipython",
    "version": 3
   },
   "file_extension": ".py",
   "mimetype": "text/x-python",
   "name": "python",
   "nbconvert_exporter": "python",
   "pygments_lexer": "ipython3",
   "version": "3.10.6"
  },
  "vscode": {
   "interpreter": {
    "hash": "271aaf9a14ca8aef692edd0e58d89184235237d981934b751bc9762a3149e378"
   }
  }
 },
 "nbformat": 4,
 "nbformat_minor": 5
}
