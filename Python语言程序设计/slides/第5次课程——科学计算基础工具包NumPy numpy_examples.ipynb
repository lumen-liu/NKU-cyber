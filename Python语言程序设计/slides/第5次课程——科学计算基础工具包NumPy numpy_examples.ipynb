{
 "cells": [
  {
   "cell_type": "markdown",
   "id": "5d41fa50",
   "metadata": {},
   "source": [
    "# 波士顿房价数据集数据类型分析"
   ]
  },
  {
   "cell_type": "code",
   "execution_count": 11,
   "id": "3bbd2ca9",
   "metadata": {},
   "outputs": [
    {
     "name": "stdout",
     "output_type": "stream",
     "text": [
      "boston对象的数据类型： <class 'sklearn.utils.Bunch'>\n",
      "boston.data的数据类型： <class 'numpy.ndarray'>\n",
      "boston.target的数据类型： <class 'numpy.ndarray'>\n"
     ]
    }
   ],
   "source": [
    "from sklearn.datasets import load_boston\n",
    "boston = load_boston() # 加载sklearn包里提供的波士顿房价数据集\n",
    "print('boston对象的数据类型：',type(boston)) # 输出boston对象的数据类型\n",
    "print('boston.data的数据类型：',type(boston.data)) # 输出boston.data的数据类型\n",
    "print('boston.target的数据类型：',type(boston.target)) # 输出boston.target的数据类型"
   ]
  },
  {
   "cell_type": "code",
   "execution_count": 42,
   "id": "bc8ff78e",
   "metadata": {},
   "outputs": [
    {
     "data": {
      "text/plain": [
       "['DESCR', 'data', 'data_module', 'feature_names', 'filename', 'target']"
      ]
     },
     "execution_count": 42,
     "metadata": {},
     "output_type": "execute_result"
    }
   ],
   "source": [
    "dir(boston)"
   ]
  },
  {
   "cell_type": "code",
   "execution_count": 44,
   "id": "9601ccb1",
   "metadata": {},
   "outputs": [
    {
     "name": "stdout",
     "output_type": "stream",
     "text": [
      ".. _boston_dataset:\n",
      "\n",
      "Boston house prices dataset\n",
      "---------------------------\n",
      "\n",
      "**Data Set Characteristics:**  \n",
      "\n",
      "    :Number of Instances: 506 \n",
      "\n",
      "    :Number of Attributes: 13 numeric/categorical predictive. Median Value (attribute 14) is usually the target.\n",
      "\n",
      "    :Attribute Information (in order):\n",
      "        - CRIM     per capita crime rate by town\n",
      "        - ZN       proportion of residential land zoned for lots over 25,000 sq.ft.\n",
      "        - INDUS    proportion of non-retail business acres per town\n",
      "        - CHAS     Charles River dummy variable (= 1 if tract bounds river; 0 otherwise)\n",
      "        - NOX      nitric oxides concentration (parts per 10 million)\n",
      "        - RM       average number of rooms per dwelling\n",
      "        - AGE      proportion of owner-occupied units built prior to 1940\n",
      "        - DIS      weighted distances to five Boston employment centres\n",
      "        - RAD      index of accessibility to radial highways\n",
      "        - TAX      full-value property-tax rate per $10,000\n",
      "        - PTRATIO  pupil-teacher ratio by town\n",
      "        - B        1000(Bk - 0.63)^2 where Bk is the proportion of black people by town\n",
      "        - LSTAT    % lower status of the population\n",
      "        - MEDV     Median value of owner-occupied homes in $1000's\n",
      "\n",
      "    :Missing Attribute Values: None\n",
      "\n",
      "    :Creator: Harrison, D. and Rubinfeld, D.L.\n",
      "\n",
      "This is a copy of UCI ML housing dataset.\n",
      "https://archive.ics.uci.edu/ml/machine-learning-databases/housing/\n",
      "\n",
      "\n",
      "This dataset was taken from the StatLib library which is maintained at Carnegie Mellon University.\n",
      "\n",
      "The Boston house-price data of Harrison, D. and Rubinfeld, D.L. 'Hedonic\n",
      "prices and the demand for clean air', J. Environ. Economics & Management,\n",
      "vol.5, 81-102, 1978.   Used in Belsley, Kuh & Welsch, 'Regression diagnostics\n",
      "...', Wiley, 1980.   N.B. Various transformations are used in the table on\n",
      "pages 244-261 of the latter.\n",
      "\n",
      "The Boston house-price data has been used in many machine learning papers that address regression\n",
      "problems.   \n",
      "     \n",
      ".. topic:: References\n",
      "\n",
      "   - Belsley, Kuh & Welsch, 'Regression diagnostics: Identifying Influential Data and Sources of Collinearity', Wiley, 1980. 244-261.\n",
      "   - Quinlan,R. (1993). Combining Instance-Based and Model-Based Learning. In Proceedings on the Tenth International Conference of Machine Learning, 236-243, University of Massachusetts, Amherst. Morgan Kaufmann.\n",
      "\n"
     ]
    }
   ],
   "source": [
    "print(boston.DESCR)"
   ]
  },
  {
   "cell_type": "markdown",
   "id": "cd54fdea",
   "metadata": {},
   "source": [
    "# 列表和ndarray排序和求和时间比较"
   ]
  },
  {
   "cell_type": "code",
   "execution_count": 12,
   "id": "6f651711",
   "metadata": {},
   "outputs": [
    {
     "name": "stdout",
     "output_type": "stream",
     "text": [
      "列表100000个元素平均排序时间：0.03460977秒\n",
      "数组100000个元素平均排序时间：0.00822174秒\n",
      "列表100000个元素平均求和时间：0.00402762秒\n",
      "数组100000个元素平均求和时间：0.00024721秒\n"
     ]
    }
   ],
   "source": [
    "import random # 导入random模块\n",
    "from time import perf_counter # 从time模块导入perf_counter\n",
    "import numpy as np # 导入numpy模块并通过as将其重命名为np\n",
    "\n",
    "n=100000 # 待处理的元素数量\n",
    "repeats = 10 # 实验重复次数（重复多次实验取平均计算时间以使结果更加稳定）\n",
    "\n",
    "ls_sort_total_seconds = 0 # 记录列表repeats次排序所需要的总时间\n",
    "arr_sort_total_seconds = 0 # 记录ndarray数组repeats次排序所需要的总时间\n",
    "ls_sum_total_seconds = 0 # 记录列表repeats次求和所需要的总时间\n",
    "arr_sum_total_seconds = 0 # 记录ndarray数组repeats次求和所需要的总时间\n",
    "for i in range(repeats): # 重复repeats次排序\n",
    "    ls = random.sample(range(1,200000),n) # 随机生成n个整数（不重复），生成随机数的计算时间未统计在内\n",
    "    arr = np.array(ls) # 根据列表ls创建ndarray数组arr，arr中元素与ls中元素相同\n",
    "    \n",
    "    # 列表元素排序时间统计\n",
    "    start = perf_counter() # 排序前记录一个时间点\n",
    "    ls.sort(reverse=False) # 调用列表的sort方法进行元素升序排序\n",
    "    end = perf_counter() # 排序后记录一个时间点\n",
    "    ls_sort_total_seconds += end-start # 两个时间点的差即为列表排序所用时间\n",
    "    \n",
    "    # ndarray数组元素排序时间统计\n",
    "    start = perf_counter() # 排序前记录一个时间点\n",
    "    np.sort(arr) # 调用numpy的sort函数进行ndarray数组元素升序排序\n",
    "    end = perf_counter() # 排序后记录一个时间点\n",
    "    arr_sort_total_seconds += end-start # 两个时间点的差即为ndarray数组排序所用时间\n",
    "\n",
    "    # 列表元素求和时间统计\n",
    "    start = perf_counter() # 排序前记录一个时间点\n",
    "    ls_sum = sum(ls) # 调用sum函数进行列表元素求和\n",
    "    end = perf_counter() # 排序后记录一个时间点\n",
    "    ls_sum_total_seconds += end-start # 两个时间点的差即为列表元素求和所用时间\n",
    "    \n",
    "    # ndarray数组元素求和时间统计\n",
    "    start = perf_counter() # 排序前记录一个时间点\n",
    "    arr_sum = np.sum(arr) # 调用numpy的sum函数进行ndarray数组元素求和\n",
    "    end = perf_counter() # 排序后记录一个时间点\n",
    "    arr_sum_total_seconds += end-start # 两个时间点的差即为数组元素求和所用时间\n",
    "    \n",
    "print('列表%6d个元素平均排序时间：%.8f秒'%(n,ls_sort_total_seconds/repeats)) # 输出列表n个元素的平均排序时间\n",
    "print('数组%6d个元素平均排序时间：%.8f秒'%(n,arr_sort_total_seconds/repeats)) # 输出ndarray数组n个元素的平均排序时间\n",
    "print('列表%6d个元素平均求和时间：%.8f秒'%(n,ls_sum_total_seconds/repeats)) # 输出列表n个元素的平均求和时间\n",
    "print('数组%6d个元素平均求和时间：%.8f秒'%(n,arr_sum_total_seconds/repeats)) # 输出ndarray数组n个元素的平均求和时间"
   ]
  },
  {
   "cell_type": "markdown",
   "id": "6e6b6ee1",
   "metadata": {},
   "source": [
    "# 波士顿房价数据集中的ndarray类对象常用属性示例"
   ]
  },
  {
   "cell_type": "code",
   "execution_count": 13,
   "id": "6e0a8739",
   "metadata": {},
   "outputs": [
    {
     "name": "stdout",
     "output_type": "stream",
     "text": [
      "data的ndim属性值是： 2\n",
      "data的shape属性值是： (506, 13)\n",
      "data的size属性值是： 6578\n",
      "data的dtype属性值是： float64\n",
      "data的itemsize属性值是： 8\n",
      "target的ndim属性值是： 1\n",
      "target的shape属性值是： (506,)\n",
      "target的size属性值是： 506\n",
      "target的dtype属性值是： float64\n",
      "target的itemsize属性值是： 8\n"
     ]
    }
   ],
   "source": [
    "from sklearn.datasets import load_boston\n",
    "boston = load_boston() # 加载sklearn包里提供的波士顿房价数据集\n",
    "data = boston.data # 获取特征数据\n",
    "target = boston.target # 获取目标房价\n",
    "print('data的ndim属性值是：',data.ndim)\n",
    "print('data的shape属性值是：',data.shape)\n",
    "print('data的size属性值是：',data.size)\n",
    "print('data的dtype属性值是：',data.dtype)\n",
    "print('data的itemsize属性值是：',data.itemsize)\n",
    "print('target的ndim属性值是：',target.ndim)\n",
    "print('target的shape属性值是：',target.shape)\n",
    "print('target的size属性值是：',target.size)\n",
    "print('target的dtype属性值是：',target.dtype)\n",
    "print('target的itemsize属性值是：',target.itemsize)"
   ]
  },
  {
   "cell_type": "markdown",
   "id": "fb773919",
   "metadata": {},
   "source": [
    "# ndarray.reshape方法使用示例"
   ]
  },
  {
   "cell_type": "code",
   "execution_count": null,
   "id": "5bad201e",
   "metadata": {},
   "outputs": [
    {
     "name": "stdout",
     "output_type": "stream",
     "text": [
      "x:\n",
      " [ 1  2  3  4  5  6  7  8  9 10 11 12]\n",
      "y:\n",
      " [[ 1  2  3  4]\n",
      " [ 5  6  7  8]\n",
      " [ 9 10 11 12]]\n",
      "z:\n",
      " [[ 1  2  3]\n",
      " [ 4  5  6]\n",
      " [ 7  8  9]\n",
      " [10 11 12]]\n",
      "w:\n",
      " [ 1  2  3  4  5  6  7  8  9 10 11 12]\n"
     ]
    }
   ],
   "source": [
    "import numpy as np\n",
    "x = np.linspace(1,12,12,dtype=int)\n",
    "y = np.reshape(x,(3,4)) # 得到一维数组x的3行4列二维数组表示形式\n",
    "z = x.reshape((4,-1)) # 得到一维数组x的4行3列二维数组表示形式\n",
    "w = z.reshape(-1) # 得到二维数组z的一维数组表示形式\n",
    "print('x:\\n', x) # 输出x\n",
    "print('y:\\n', y) # 输出y\n",
    "print('z:\\n', z) # 输出z\n",
    "print('w:\\n', w) # 输出w"
   ]
  },
  {
   "cell_type": "code",
   "execution_count": 55,
   "id": "5062b35b",
   "metadata": {},
   "outputs": [
    {
     "name": "stdout",
     "output_type": "stream",
     "text": [
      "Help on flatiter object:\n",
      "\n",
      "class flatiter(builtins.object)\n",
      " |  Flat iterator object to iterate over arrays.\n",
      " |  \n",
      " |  A `flatiter` iterator is returned by ``x.flat`` for any array `x`.\n",
      " |  It allows iterating over the array as if it were a 1-D array,\n",
      " |  either in a for-loop or by calling its `next` method.\n",
      " |  \n",
      " |  Iteration is done in row-major, C-style order (the last\n",
      " |  index varying the fastest). The iterator can also be indexed using\n",
      " |  basic slicing or advanced indexing.\n",
      " |  \n",
      " |  See Also\n",
      " |  --------\n",
      " |  ndarray.flat : Return a flat iterator over an array.\n",
      " |  ndarray.flatten : Returns a flattened copy of an array.\n",
      " |  \n",
      " |  Notes\n",
      " |  -----\n",
      " |  A `flatiter` iterator can not be constructed directly from Python code\n",
      " |  by calling the `flatiter` constructor.\n",
      " |  \n",
      " |  Examples\n",
      " |  --------\n",
      " |  >>> x = np.arange(6).reshape(2, 3)\n",
      " |  >>> fl = x.flat\n",
      " |  >>> type(fl)\n",
      " |  <class 'numpy.flatiter'>\n",
      " |  >>> for item in fl:\n",
      " |  ...     print(item)\n",
      " |  ...\n",
      " |  0\n",
      " |  1\n",
      " |  2\n",
      " |  3\n",
      " |  4\n",
      " |  5\n",
      " |  \n",
      " |  >>> fl[2:4]\n",
      " |  array([2, 3])\n",
      " |  \n",
      " |  Methods defined here:\n",
      " |  \n",
      " |  __array__(...)\n",
      " |      __array__(type=None) Get array from iterator\n",
      " |  \n",
      " |  __delitem__(self, key, /)\n",
      " |      Delete self[key].\n",
      " |  \n",
      " |  __eq__(self, value, /)\n",
      " |      Return self==value.\n",
      " |  \n",
      " |  __ge__(self, value, /)\n",
      " |      Return self>=value.\n",
      " |  \n",
      " |  __getitem__(self, key, /)\n",
      " |      Return self[key].\n",
      " |  \n",
      " |  __gt__(self, value, /)\n",
      " |      Return self>value.\n",
      " |  \n",
      " |  __iter__(self, /)\n",
      " |      Implement iter(self).\n",
      " |  \n",
      " |  __le__(self, value, /)\n",
      " |      Return self<=value.\n",
      " |  \n",
      " |  __len__(self, /)\n",
      " |      Return len(self).\n",
      " |  \n",
      " |  __lt__(self, value, /)\n",
      " |      Return self<value.\n",
      " |  \n",
      " |  __ne__(self, value, /)\n",
      " |      Return self!=value.\n",
      " |  \n",
      " |  __next__(self, /)\n",
      " |      Implement next(self).\n",
      " |  \n",
      " |  __setitem__(self, key, value, /)\n",
      " |      Set self[key] to value.\n",
      " |  \n",
      " |  copy(...)\n",
      " |      copy()\n",
      " |      \n",
      " |      Get a copy of the iterator as a 1-D array.\n",
      " |      \n",
      " |      Examples\n",
      " |      --------\n",
      " |      >>> x = np.arange(6).reshape(2, 3)\n",
      " |      >>> x\n",
      " |      array([[0, 1, 2],\n",
      " |             [3, 4, 5]])\n",
      " |      >>> fl = x.flat\n",
      " |      >>> fl.copy()\n",
      " |      array([0, 1, 2, 3, 4, 5])\n",
      " |  \n",
      " |  ----------------------------------------------------------------------\n",
      " |  Data descriptors defined here:\n",
      " |  \n",
      " |  base\n",
      " |      A reference to the array that is iterated over.\n",
      " |      \n",
      " |      Examples\n",
      " |      --------\n",
      " |      >>> x = np.arange(5)\n",
      " |      >>> fl = x.flat\n",
      " |      >>> fl.base is x\n",
      " |      True\n",
      " |  \n",
      " |  coords\n",
      " |      An N-dimensional tuple of current coordinates.\n",
      " |      \n",
      " |      Examples\n",
      " |      --------\n",
      " |      >>> x = np.arange(6).reshape(2, 3)\n",
      " |      >>> fl = x.flat\n",
      " |      >>> fl.coords\n",
      " |      (0, 0)\n",
      " |      >>> next(fl)\n",
      " |      0\n",
      " |      >>> fl.coords\n",
      " |      (0, 1)\n",
      " |  \n",
      " |  index\n",
      " |      Current flat index into the array.\n",
      " |      \n",
      " |      Examples\n",
      " |      --------\n",
      " |      >>> x = np.arange(6).reshape(2, 3)\n",
      " |      >>> fl = x.flat\n",
      " |      >>> fl.index\n",
      " |      0\n",
      " |      >>> next(fl)\n",
      " |      0\n",
      " |      >>> fl.index\n",
      " |      1\n",
      " |  \n",
      " |  ----------------------------------------------------------------------\n",
      " |  Data and other attributes defined here:\n",
      " |  \n",
      " |  __hash__ = None\n",
      "\n"
     ]
    }
   ],
   "source": [
    "help(x.flat)"
   ]
  },
  {
   "cell_type": "markdown",
   "id": "f55c306a",
   "metadata": {},
   "source": [
    "# 股票数据获取及文件读写示例"
   ]
  },
  {
   "cell_type": "code",
   "execution_count": 56,
   "id": "abeddfb5",
   "metadata": {},
   "outputs": [
    {
     "name": "stdout",
     "output_type": "stream",
     "text": [
      "本接口即将停止更新，请尽快使用Pro版接口：https://tushare.pro/document/2\n"
     ]
    },
    {
     "name": "stderr",
     "output_type": "stream",
     "text": [
      "d:\\ProgramData\\Anaconda3\\lib\\site-packages\\tushare\\stock\\trading.py:706: FutureWarning: The frame.append method is deprecated and will be removed from pandas in a future version. Use pandas.concat instead.\n",
      "  data = data.append(_get_k_data(url, dataflag,\n"
     ]
    },
    {
     "name": "stdout",
     "output_type": "stream",
     "text": [
      "所有列数据：\n",
      "[['2020-03-02' 16.35 16.817 16.833 16.35 51902.0 '600848']\n",
      " ['2020-03-03' 16.983 17.0 17.392 16.833 62690.0 '600848']\n",
      " ['2020-03-04' 16.858 17.142 17.2 16.725 52519.0 '600848']\n",
      " ['2020-03-05' 17.475 17.283 17.475 17.167 63113.0 '600848']\n",
      " ['2020-03-06' 17.25 17.133 17.258 17.067 44897.0 '600848']\n",
      " ['2020-03-09' 17.0 16.592 17.008 16.592 70047.0 '600848']\n",
      " ['2020-03-10' 16.25 16.658 16.742 16.092 67789.0 '600848']\n",
      " ['2020-03-11' 16.675 16.775 17.167 16.667 66715.0 '600848']\n",
      " ['2020-03-12' 16.583 16.467 16.65 16.358 48113.0 '600848']\n",
      " ['2020-03-13' 15.792 16.067 16.217 15.567 72370.0 '600848']\n",
      " ['2020-03-16' 16.175 15.75 16.425 15.667 65307.0 '600848']\n",
      " ['2020-03-17' 15.917 15.417 15.975 15.233 52294.0 '600848']\n",
      " ['2020-03-18' 15.567 15.25 15.733 15.125 48094.0 '600848']\n",
      " ['2020-03-19' 15.175 15.25 15.292 14.8 61516.0 '600848']\n",
      " ['2020-03-20' 15.25 15.283 15.358 15.092 29620.0 '600848']\n",
      " ['2020-03-23' 14.833 14.792 15.0 14.767 30648.0 '600848']\n",
      " ['2020-03-24' 14.95 15.0 15.233 14.767 34618.0 '600848']\n",
      " ['2020-03-25' 15.225 15.275 15.375 15.083 52548.0 '600848']\n",
      " ['2020-03-26' 15.225 15.008 15.242 14.975 34692.0 '600848']\n",
      " ['2020-03-27' 15.083 14.958 15.217 14.933 29820.0 '600848']\n",
      " ['2020-03-30' 14.767 15.583 16.167 14.4 87474.0 '600848']\n",
      " ['2020-03-31' 15.5 16.0 16.233 15.258 115167.0 '600848']]\n",
      "读取的第1、2、4列数据：\n",
      "[[ 0.    16.35  16.833]\n",
      " [ 1.    16.983 17.392]\n",
      " [ 2.    16.858 17.2  ]\n",
      " [ 3.    17.475 17.475]\n",
      " [ 4.    17.25  17.258]\n",
      " [ 0.    17.    17.008]\n",
      " [ 1.    16.25  16.742]\n",
      " [ 2.    16.675 17.167]\n",
      " [ 3.    16.583 16.65 ]\n",
      " [ 4.    15.792 16.217]\n",
      " [ 0.    16.175 16.425]\n",
      " [ 1.    15.917 15.975]\n",
      " [ 2.    15.567 15.733]\n",
      " [ 3.    15.175 15.292]\n",
      " [ 4.    15.25  15.358]\n",
      " [ 0.    14.833 15.   ]\n",
      " [ 1.    14.95  15.233]\n",
      " [ 2.    15.225 15.375]\n",
      " [ 3.    15.225 15.242]\n",
      " [ 4.    15.083 15.217]\n",
      " [ 0.    14.767 16.167]\n",
      " [ 1.    15.5   16.233]]\n",
      "开盘价：\n",
      " [16.35  16.983 16.858 17.475 17.25  17.    16.25  16.675 16.583 15.792\n",
      " 16.175 15.917 15.567 15.175 15.25  14.833 14.95  15.225 15.225 15.083\n",
      " 14.767 15.5  ]\n",
      "收盘价：\n",
      " [16.833 17.392 17.2   17.475 17.258 17.008 16.742 17.167 16.65  16.217\n",
      " 16.425 15.975 15.733 15.292 15.358 15.    15.233 15.375 15.242 15.217\n",
      " 16.167 16.233]\n"
     ]
    }
   ],
   "source": [
    "import tushare as ts # 导入tushare\n",
    "import numpy as np # 导入numpy\n",
    "from datetime import datetime # 导入datetime\n",
    "\n",
    "def datestr2num(s): # 根据日期获取一周的第几天（0表示周一，1表示周二，…）\n",
    "    return datetime.strptime(s.decode('utf-8'),'%Y-%m-%d').date().weekday()\n",
    "\n",
    "df = ts.get_k_data('600848', '2020-03-01', '2020-03-31') # 获取股票代码为600848在2020年3月的日k线数据\n",
    "arr = df.values # 获取ndarray类形式的股票数据\n",
    "print('所有列数据：')\n",
    "print(arr) # 输出股票数据\n",
    "np.savetxt('./stock_600848_202003.csv', arr, fmt='%s', delimiter=',') # 将股票数据写入CSV文件，注意各列数据用逗号分隔\n",
    "data = np.loadtxt('./stock_600848_202003.csv', delimiter=',', converters={0:datestr2num}, usecols=(0,1,3)) # 从CSV文件读取股票数据\n",
    "print('读取的第1、2、4列数据：')\n",
    "print(data)\n",
    "open_price,close_price=np.loadtxt('./stock_600848_202003.csv', delimiter=',', usecols=(1,3), unpack=True) # 从CSV文件读取股票数据（每列数据单独存储）\n",
    "print('开盘价：\\n', open_price)\n",
    "print('收盘价：\\n', close_price)"
   ]
  },
  {
   "cell_type": "code",
   "execution_count": 20,
   "id": "23715c36",
   "metadata": {},
   "outputs": [
    {
     "name": "stdout",
     "output_type": "stream",
     "text": [
      "Looking in indexes: https://pypi.tuna.tsinghua.edu.cn/simpleNote: you may need to restart the kernel to use updated packages.\n",
      "\n",
      "Requirement already satisfied: tushare in d:\\programdata\\anaconda3\\lib\\site-packages (1.2.85)\n",
      "Requirement already satisfied: lxml in d:\\programdata\\anaconda3\\lib\\site-packages (from tushare) (4.8.0)\n",
      "Requirement already satisfied: pandas in d:\\programdata\\anaconda3\\lib\\site-packages (from tushare) (1.4.2)\n",
      "Requirement already satisfied: websocket-client==0.57.0 in d:\\programdata\\anaconda3\\lib\\site-packages (from tushare) (0.57.0)\n",
      "Requirement already satisfied: bs4 in d:\\programdata\\anaconda3\\lib\\site-packages (from tushare) (0.0.1)\n",
      "Requirement already satisfied: requests in d:\\programdata\\anaconda3\\lib\\site-packages (from tushare) (2.27.1)\n",
      "Requirement already satisfied: simplejson in d:\\programdata\\anaconda3\\lib\\site-packages (from tushare) (3.17.6)\n",
      "Requirement already satisfied: six in d:\\programdata\\anaconda3\\lib\\site-packages (from websocket-client==0.57.0->tushare) (1.16.0)\n",
      "Requirement already satisfied: beautifulsoup4 in d:\\programdata\\anaconda3\\lib\\site-packages (from bs4->tushare) (4.11.1)\n",
      "Requirement already satisfied: soupsieve>1.2 in d:\\programdata\\anaconda3\\lib\\site-packages (from beautifulsoup4->bs4->tushare) (2.3.1)\n",
      "Requirement already satisfied: numpy>=1.18.5 in d:\\programdata\\anaconda3\\lib\\site-packages (from pandas->tushare) (1.21.5)\n",
      "Requirement already satisfied: python-dateutil>=2.8.1 in d:\\programdata\\anaconda3\\lib\\site-packages (from pandas->tushare) (2.8.2)\n",
      "Requirement already satisfied: pytz>=2020.1 in d:\\programdata\\anaconda3\\lib\\site-packages (from pandas->tushare) (2021.3)\n",
      "Requirement already satisfied: idna<4,>=2.5 in d:\\programdata\\anaconda3\\lib\\site-packages (from requests->tushare) (3.3)\n",
      "Requirement already satisfied: certifi>=2017.4.17 in d:\\programdata\\anaconda3\\lib\\site-packages (from requests->tushare) (2021.10.8)\n",
      "Requirement already satisfied: charset-normalizer~=2.0.0 in d:\\programdata\\anaconda3\\lib\\site-packages (from requests->tushare) (2.0.4)\n",
      "Requirement already satisfied: urllib3<1.27,>=1.21.1 in d:\\programdata\\anaconda3\\lib\\site-packages (from requests->tushare) (1.26.9)\n"
     ]
    }
   ],
   "source": [
    "pip install tushare -i https://pypi.tuna.tsinghua.edu.cn/simple --trusted-host pypi.tuna.tsinghua.edu.cn"
   ]
  },
  {
   "cell_type": "markdown",
   "id": "066a6cbe",
   "metadata": {},
   "source": [
    "# 索引和切片示例"
   ]
  },
  {
   "cell_type": "code",
   "execution_count": 22,
   "id": "f5378cc4",
   "metadata": {},
   "outputs": [
    {
     "name": "stdout",
     "output_type": "stream",
     "text": [
      "输出前5行元素：\n",
      " [[ 0.    16.35  16.817 16.833 16.35 ]\n",
      " [ 1.    16.983 17.    17.392 16.833]\n",
      " [ 2.    16.858 17.142 17.2   16.725]\n",
      " [ 3.    17.475 17.283 17.475 17.167]\n",
      " [ 4.    17.25  17.133 17.258 17.067]]\n",
      "输出前5行的第2列和第3列元素：\n",
      " [[16.35  16.817]\n",
      " [16.983 17.   ]\n",
      " [16.858 17.142]\n",
      " [17.475 17.283]\n",
      " [17.25  17.133]]\n",
      "输出前5行的第2列和第4列元素：\n",
      " [[16.35  16.833]\n",
      " [16.983 17.392]\n",
      " [16.858 17.2  ]\n",
      " [17.475 17.475]\n",
      " [17.25  17.258]]\n",
      "输出前5行的第2列元素：\n",
      " [16.35  16.983 16.858 17.475 17.25 ]\n",
      "输出第3行和第5行的第2列和第4列元素：\n",
      " [[16.858 17.2  ]\n",
      " [17.25  17.258]]\n",
      "输出倒数第2、3行的第2列和第4列元素：\n",
      " [[14.767 16.167]\n",
      " [15.083 15.217]]\n",
      "输出第3行的第2列元素：\n",
      " 16.858\n",
      "部分元素赋值为-1后输出前5行元素：\n",
      " [[ 0.    16.35  16.817 16.833 16.35 ]\n",
      " [ 1.    16.983 17.    17.392 16.833]\n",
      " [ 2.    -1.    17.142 -1.    16.725]\n",
      " [ 3.    17.475 17.283 17.475 17.167]\n",
      " [ 4.    17.25  17.133 17.258 17.067]]\n",
      "输出第3行元素：\n",
      " [ 2.    -1.    17.142 -1.    16.725]\n"
     ]
    }
   ],
   "source": [
    "import numpy as np # 导入numpy\n",
    "from datetime import datetime # 导入datetime\n",
    "\n",
    "def datestr2num(s): # 根据日期获取一周的第几天（0表示周一，1表示周二，…）\n",
    "    return datetime.strptime(s.decode('utf-8'),'%Y-%m-%d').date().weekday()\n",
    "\n",
    "data = np.loadtxt('./stock_600848_202003.csv', delimiter=',', converters={0:datestr2num}, usecols=range(5)) # 从CSV文件读取前5列股票数据\n",
    "print('输出前5行元素：\\n',data[0:5,:])\n",
    "print('输出前5行的第2列和第3列元素：\\n',data[0:5,1:3])\n",
    "print('输出前5行的第2列和第4列元素：\\n',data[0:5,(1,3)])\n",
    "print('输出前5行的第2列元素：\\n',data[0:5,1])\n",
    "print('输出第3行和第5行的第2列和第4列元素：\\n',data[(2,4),:][:,(1,3)])\n",
    "print('输出倒数第2、3行的第2列和第4列元素：\\n',data[(-2,-3),:][:,(1,3)])\n",
    "print('输出第3行的第2列元素：\\n',data[2,1])\n",
    "data[2,(1,3)]=-1 # 将第3行的第2列元素和第4列元素置为-1\n",
    "print('部分元素赋值为-1后输出前5行元素：\\n',data[0:5,:])\n",
    "print('输出第3行元素：\\n',data[2])"
   ]
  },
  {
   "cell_type": "markdown",
   "id": "d9fb230f",
   "metadata": {},
   "source": [
    "# 数组对象copy方法使用示例"
   ]
  },
  {
   "cell_type": "code",
   "execution_count": 23,
   "id": "531b569f",
   "metadata": {},
   "outputs": [
    {
     "name": "stdout",
     "output_type": "stream",
     "text": [
      "a:\n",
      " [[ 1  2  3  4]\n",
      " [ 5  6  7  8]\n",
      " [ 9 10 11 12]]\n",
      "b is a: False\n",
      "a:\n",
      " [[ 1  2  3  4]\n",
      " [ 5  6  7  8]\n",
      " [ 9 -1 11 12]]\n",
      "b:\n",
      " [[ 1  2  3  4]\n",
      " [ 5  6  7  8]\n",
      " [ 9 10 11 12]]\n"
     ]
    }
   ],
   "source": [
    "a = np.arange(1,13).reshape(3,4) # 创建一个3行4列的二维数组对象a\n",
    "print('a:\\n',a) # 输出a\n",
    "b = a.copy() # 调用copy方法生成a的副本并赋给b\n",
    "print('b is a:',b is a) # 使用is判断b和a是否对应同一个数组对象\n",
    "a[2,1] = -1 # 将a中第3行第2列的元素修改为-1\n",
    "print('a:\\n',a) # 输出a\n",
    "print('b:\\n',b) # 输出b"
   ]
  },
  {
   "cell_type": "markdown",
   "id": "1d639dea",
   "metadata": {},
   "source": [
    "# 数组对象直接赋值和浅拷贝程序示例"
   ]
  },
  {
   "cell_type": "code",
   "execution_count": 57,
   "id": "4848da34",
   "metadata": {},
   "outputs": [
    {
     "name": "stdout",
     "output_type": "stream",
     "text": [
      "a:\n",
      " [[ 1  2  3  4]\n",
      " [ 5  6  7  8]\n",
      " [ 9 10 11 12]]\n",
      "b is a: True\n",
      "c is a: False\n",
      "d is a: False\n",
      "e is a: False\n",
      "a:\n",
      " [[ 1  2  3  4]\n",
      " [ 5  6  7  8]\n",
      " [ 9 -1 11 12]]\n",
      "b:\n",
      " [[ 1  2  3  4]\n",
      " [ 5  6  7  8]\n",
      " [ 9 -1 11 12]]\n",
      "c:\n",
      " [[ 1  2  3  4]\n",
      " [ 5  6  7  8]\n",
      " [ 9 -1 11 12]]\n",
      "d:\n",
      " [[ 1  2  3]\n",
      " [ 4  5  6]\n",
      " [ 7  8  9]\n",
      " [-1 11 12]]\n",
      "e:\n",
      " [[ 1  5  9]\n",
      " [ 2  6 -1]\n",
      " [ 3  7 11]\n",
      " [ 4  8 12]]\n"
     ]
    }
   ],
   "source": [
    "a = np.arange(1,13).reshape(3,4) # 创建一个3行4列的二维数组对象a\n",
    "print('a:\\n',a) # 输出a\n",
    "b = a\n",
    "print('b is a:',b is a) # 使用is判断b和a是否对应同一个数组对象\n",
    "c = a[:,:] # 将对a切片操作的返回结果赋给c\n",
    "print('c is a:',c is a) # 使用is判断c和a是否对应同一个数组对象\n",
    "d = a.reshape(4,3) # 将a.reshape返回的4行3列二维数组对象赋给d\n",
    "print('d is a:',d is a) # 使用is判断d和a是否对应同一个数组对象\n",
    "e = a.T # 将a.T返回的a的转置结果赋给e\n",
    "print('e is a:',e is a) # 使用is判断e和a是否对应同一个数组对象\n",
    "a[2,1] = -1 # 将a中第3行第2列的元素修改为-1\n",
    "print('a:\\n',a) # 输出a\n",
    "print('b:\\n',b) # 输出b\n",
    "print('c:\\n',c) # 输出c\n",
    "print('d:\\n',d) # 输出d\n",
    "print('e:\\n',e) # 输出e"
   ]
  },
  {
   "cell_type": "markdown",
   "id": "529d9952",
   "metadata": {},
   "source": [
    "# ndarray类对象基础运算示例"
   ]
  },
  {
   "cell_type": "code",
   "execution_count": 25,
   "id": "d4206465",
   "metadata": {},
   "outputs": [
    {
     "name": "stdout",
     "output_type": "stream",
     "text": [
      "x:\n",
      " [[1 2 3]\n",
      " [4 5 6]]\n",
      "y:\n",
      " [[ 7  8  9]\n",
      " [10 11 12]]\n",
      "z:\n",
      " [[1 4]\n",
      " [2 5]\n",
      " [3 6]]\n",
      "w:\n",
      " [[1 2 3]\n",
      " [3 2 1]]\n",
      "x+y:\n",
      " [[ 8 10 12]\n",
      " [14 16 18]]\n",
      "x+2:\n",
      " [[3 4 5]\n",
      " [6 7 8]]\n",
      "x**2:\n",
      " [[ 1  4  9]\n",
      " [16 25 36]]\n",
      "x*y:\n",
      " [[ 7 16 27]\n",
      " [40 55 72]]\n",
      "x@z:\n",
      " [[14 32]\n",
      " [32 77]]\n",
      "x**w:\n",
      " [[ 1  4 27]\n",
      " [64 25  6]]\n",
      "x before x+=y:\n",
      " [[1 2 3]\n",
      " [4 5 6]]\n",
      "x after x+=y:\n",
      " [[ 8 10 12]\n",
      " [14 16 18]]\n",
      "y>10:\n",
      " [[False False False]\n",
      " [False  True  True]]\n"
     ]
    }
   ],
   "source": [
    "import numpy as np\n",
    "x=np.arange(1,7).reshape(2,3)\n",
    "y=np.arange(7,13).reshape(2,3)\n",
    "z=x.T # z为x的转置\n",
    "w=np.array([[1,2,3],[3,2,1]])\n",
    "print('x:\\n',x)\n",
    "print('y:\\n',y)\n",
    "print('z:\\n',z)\n",
    "print('w:\\n',w)\n",
    "print('x+y:\\n',x+y) # 输出x和y的逐元素加法结果（x和y的值均不变）\n",
    "print('x+2:\\n',x+2) # 输出x逐元素加2的运算结果（x的值不变）\n",
    "print('x**2:\\n',x**2) # 输出x的逐元素乘方运算结果（x的值不变）\n",
    "print('x*y:\\n',x*y) # 输出x和y的逐元素乘法结果（x和y的值均不变）\n",
    "print('x@z:\\n',x@z) # 输出x和z的矩阵乘法结果（x和z的值均不变）\n",
    "print('x**w:\\n',x**w) # 输出x与w的逐元素幂运算结果（x和w的值均不变）\n",
    "print('x before x+=y:\\n',x) # 输出x+=y运算前的x值\n",
    "x+=y # 将y逐元素加到x上（x的值改变、y的值不变）\n",
    "print('x after x+=y:\\n',x) # 输出x+=y运算后的x值\n",
    "print('y>10:\\n',y>10) # 输出y与10逐元素比较的结果"
   ]
  },
  {
   "cell_type": "markdown",
   "id": "7dbd72ec",
   "metadata": {},
   "source": [
    "# 计算股票各项数据的平均值"
   ]
  },
  {
   "cell_type": "code",
   "execution_count": 27,
   "id": "897292f9",
   "metadata": {},
   "outputs": [
    {
     "name": "stdout",
     "output_type": "stream",
     "text": [
      "data.shape: (22, 5)\n",
      "每日的开盘价、最高价、收盘价、最低价和成交量数据：\n",
      "[1.6350e+01 1.6817e+01 1.6833e+01 1.6350e+01 5.1902e+04]\n",
      "[1.6983e+01 1.7000e+01 1.7392e+01 1.6833e+01 6.2690e+04]\n",
      "[1.6858e+01 1.7142e+01 1.7200e+01 1.6725e+01 5.2519e+04]\n",
      "[1.7475e+01 1.7283e+01 1.7475e+01 1.7167e+01 6.3113e+04]\n",
      "[1.7250e+01 1.7133e+01 1.7258e+01 1.7067e+01 4.4897e+04]\n",
      "[1.7000e+01 1.6592e+01 1.7008e+01 1.6592e+01 7.0047e+04]\n",
      "[1.6250e+01 1.6658e+01 1.6742e+01 1.6092e+01 6.7789e+04]\n",
      "[1.6675e+01 1.6775e+01 1.7167e+01 1.6667e+01 6.6715e+04]\n",
      "[1.6583e+01 1.6467e+01 1.6650e+01 1.6358e+01 4.8113e+04]\n",
      "[1.5792e+01 1.6067e+01 1.6217e+01 1.5567e+01 7.2370e+04]\n",
      "[1.6175e+01 1.5750e+01 1.6425e+01 1.5667e+01 6.5307e+04]\n",
      "[1.5917e+01 1.5417e+01 1.5975e+01 1.5233e+01 5.2294e+04]\n",
      "[1.5567e+01 1.5250e+01 1.5733e+01 1.5125e+01 4.8094e+04]\n",
      "[1.5175e+01 1.5250e+01 1.5292e+01 1.4800e+01 6.1516e+04]\n",
      "[1.5250e+01 1.5283e+01 1.5358e+01 1.5092e+01 2.9620e+04]\n",
      "[1.4833e+01 1.4792e+01 1.5000e+01 1.4767e+01 3.0648e+04]\n",
      "[1.4950e+01 1.5000e+01 1.5233e+01 1.4767e+01 3.4618e+04]\n",
      "[1.5225e+01 1.5275e+01 1.5375e+01 1.5083e+01 5.2548e+04]\n",
      "[1.5225e+01 1.5008e+01 1.5242e+01 1.4975e+01 3.4692e+04]\n",
      "[1.5083e+01 1.4958e+01 1.5217e+01 1.4933e+01 2.9820e+04]\n",
      "[1.4767e+01 1.5583e+01 1.6167e+01 1.4400e+01 8.7474e+04]\n",
      "[1.55000e+01 1.60000e+01 1.62330e+01 1.52580e+01 1.15167e+05]\n",
      "开盘价、最高价、收盘价、最低价和成交量的平均值：\n",
      " [1.59492273e+01 1.59772727e+01 1.62360000e+01 1.57053636e+01\n",
      " 5.64524091e+04]\n"
     ]
    }
   ],
   "source": [
    "import numpy as np # 导入numpy\n",
    "\n",
    "data = np.loadtxt('./stock_600848_202003.csv', delimiter=',', usecols=range(1,6)) # 从CSV文件读取第2-6列股票数据（分别对应股票每日的开盘价、最高价、收盘价、最低价和成交量）\n",
    "print('data.shape:',data.shape)\n",
    "avg = np.zeros(5) # 用于保存平均值\n",
    "print('每日的开盘价、最高价、收盘价、最低价和成交量数据：')\n",
    "for d in data: # 循环获取每日的股票数据\n",
    "    print(d) # 输出每日的股票数据\n",
    "    avg += d # 将每日数据直接加到avg中\n",
    "avg /= data.shape[0] # 除以数据条数（即天数）得到各项数据平均值\n",
    "print('开盘价、最高价、收盘价、最低价和成交量的平均值：\\n', avg)"
   ]
  },
  {
   "cell_type": "markdown",
   "id": "1e14916e",
   "metadata": {},
   "source": [
    "# 广播机制示例"
   ]
  },
  {
   "cell_type": "code",
   "execution_count": 60,
   "id": "d9bca86a",
   "metadata": {},
   "outputs": [
    {
     "name": "stdout",
     "output_type": "stream",
     "text": [
      "x:\n",
      " [[1 2 3]\n",
      " [4 5 6]]\n",
      "y:\n",
      " [7 8 9]\n",
      "z:\n",
      " [[7]\n",
      " [8]]\n",
      "x*2:\n",
      " [[ 2  4  6]\n",
      " [ 8 10 12]]\n",
      "x*y:\n",
      " [[ 7 16 27]\n",
      " [28 40 54]]\n",
      "x*z:\n",
      " [[ 7 14 21]\n",
      " [32 40 48]]\n"
     ]
    }
   ],
   "source": [
    "import numpy as np\n",
    "x=np.arange(1,7).reshape(2,3)\n",
    "y=np.arange(7,10)\n",
    "z=np.arange(7,9).reshape(2,1)\n",
    "print('x:\\n',x)\n",
    "print('y:\\n',y)\n",
    "print('z:\\n',z)\n",
    "print('x*2:\\n',x*2) # 输出x逐元素乘2的运算结果\n",
    "print('x*y:\\n',x*y) # 输出x和y逐元素相乘的运算结果\n",
    "print('x*z:\\n',x*z) # 输出x和z逐元素相乘的运算结果"
   ]
  },
  {
   "attachments": {},
   "cell_type": "markdown",
   "id": "f797e3a2",
   "metadata": {},
   "source": [
    "# 计算股票各项数据的最大值和最小值"
   ]
  },
  {
   "cell_type": "code",
   "execution_count": 33,
   "id": "060b5caa",
   "metadata": {},
   "outputs": [
    {
     "name": "stdout",
     "output_type": "stream",
     "text": [
      "data.shape: (22, 5)\n",
      "每日的开盘价、最高价、收盘价、最低价和成交量数据：\n",
      "[1.6350e+01 1.6817e+01 1.6833e+01 1.6350e+01 5.1902e+04]\n",
      "[1.6983e+01 1.7000e+01 1.7392e+01 1.6833e+01 6.2690e+04]\n",
      "[1.6858e+01 1.7142e+01 1.7200e+01 1.6725e+01 5.2519e+04]\n",
      "[1.7475e+01 1.7283e+01 1.7475e+01 1.7167e+01 6.3113e+04]\n",
      "[1.7250e+01 1.7133e+01 1.7258e+01 1.7067e+01 4.4897e+04]\n",
      "[1.7000e+01 1.6592e+01 1.7008e+01 1.6592e+01 7.0047e+04]\n",
      "[1.6250e+01 1.6658e+01 1.6742e+01 1.6092e+01 6.7789e+04]\n",
      "[1.6675e+01 1.6775e+01 1.7167e+01 1.6667e+01 6.6715e+04]\n",
      "[1.6583e+01 1.6467e+01 1.6650e+01 1.6358e+01 4.8113e+04]\n",
      "[1.5792e+01 1.6067e+01 1.6217e+01 1.5567e+01 7.2370e+04]\n",
      "[1.6175e+01 1.5750e+01 1.6425e+01 1.5667e+01 6.5307e+04]\n",
      "[1.5917e+01 1.5417e+01 1.5975e+01 1.5233e+01 5.2294e+04]\n",
      "[1.5567e+01 1.5250e+01 1.5733e+01 1.5125e+01 4.8094e+04]\n",
      "[1.5175e+01 1.5250e+01 1.5292e+01 1.4800e+01 6.1516e+04]\n",
      "[1.5250e+01 1.5283e+01 1.5358e+01 1.5092e+01 2.9620e+04]\n",
      "[1.4833e+01 1.4792e+01 1.5000e+01 1.4767e+01 3.0648e+04]\n",
      "[1.4950e+01 1.5000e+01 1.5233e+01 1.4767e+01 3.4618e+04]\n",
      "[1.5225e+01 1.5275e+01 1.5375e+01 1.5083e+01 5.2548e+04]\n",
      "[1.5225e+01 1.5008e+01 1.5242e+01 1.4975e+01 3.4692e+04]\n",
      "[1.5083e+01 1.4958e+01 1.5217e+01 1.4933e+01 2.9820e+04]\n",
      "[1.4767e+01 1.5583e+01 1.6167e+01 1.4400e+01 8.7474e+04]\n",
      "[1.55000e+01 1.60000e+01 1.62330e+01 1.52580e+01 1.15167e+05]\n",
      "开盘价、最高价、收盘价、最低价和成交量的最大值：\n",
      " [1.74750e+01 1.72830e+01 1.74750e+01 1.71670e+01 1.15167e+05]\n",
      "开盘价、最高价、收盘价、最低价和成交量的最小值：\n",
      " [1.4767e+01 1.4792e+01 1.5000e+01 1.4400e+01 2.9620e+04]\n"
     ]
    }
   ],
   "source": [
    "import numpy as np # 导入numpy\n",
    "\n",
    "data = np.loadtxt('./stock_600848_202003.csv', delimiter=',', usecols=range(1,6)) # 从CSV文件读取第2-6列股票数据（分别对应股票每日的开盘价、最高价、收盘价、最低价和成交量）\n",
    "print('data.shape:',data.shape)\n",
    "print('每日的开盘价、最高价、收盘价、最低价和成交量数据：')\n",
    "maxval = data[0] # 用于保存最大值（先假设第1天的股票各数据项为最大值）\n",
    "minval = data[0] # 用于保存最小值（先假设第1天的股票各数据项为最小值）\n",
    "print(data[0]) # 输出第1天的股票数据\n",
    "for i in range(1,data.shape[0]): # 循环获取每日的股票数据\n",
    "    print(data[i]) # 输出每日的股票数据\n",
    "    maxval = np.maximum(maxval, data[i]) # 用当前股票数据更新当前保存的各数据项最大值\n",
    "    minval = np.minimum(minval, data[i]) # 用当前股票数据更新当前保存的各数据项最小值\n",
    "print('开盘价、最高价、收盘价、最低价和成交量的最大值：\\n', maxval)\n",
    "print('开盘价、最高价、收盘价、最低价和成交量的最小值：\\n', minval)"
   ]
  },
  {
   "cell_type": "markdown",
   "id": "23bc7baf",
   "metadata": {},
   "source": [
    "# 对股票数据进行基本的统计分析"
   ]
  },
  {
   "cell_type": "code",
   "execution_count": 34,
   "id": "d7ebeff8",
   "metadata": {},
   "outputs": [
    {
     "name": "stdout",
     "output_type": "stream",
     "text": [
      "最大值：\n",
      " [1.74750e+01 1.72830e+01 1.74750e+01 1.71670e+01 1.15167e+05]\n",
      "最小值：\n",
      " [1.4767e+01 1.4792e+01 1.5000e+01 1.4400e+01 2.9620e+04]\n",
      "波动幅度：\n",
      " [2.7080e+00 2.4910e+00 2.4750e+00 2.7670e+00 8.5547e+04]\n",
      "最大值-最小值：\n",
      " [2.7080e+00 2.4910e+00 2.4750e+00 2.7670e+00 8.5547e+04]\n",
      "中值：\n",
      " [1.58545e+01 1.58750e+01 1.62250e+01 1.54125e+01 5.25335e+04]\n",
      "25百分位数：\n",
      " [1.522500e+01 1.525625e+01 1.536225e+01 1.500200e+01 4.569625e+04]\n",
      "75百分位数：\n",
      " [1.665200e+01 1.674575e+01 1.696425e+01 1.653350e+01 6.636300e+04]\n",
      "均值：\n",
      " [1.59492273e+01 1.59772727e+01 1.62360000e+01 1.57053636e+01\n",
      " 5.64524091e+04]\n",
      "方差：\n",
      " [6.88753994e-01 6.71217380e-01 6.55329455e-01 7.25565504e-01\n",
      " 3.93459881e+08]\n",
      "根据均值计算方差：\n",
      " [6.88753994e-01 6.71217380e-01 6.55329455e-01 7.25565504e-01\n",
      " 3.93459881e+08]\n",
      "标准差：\n",
      " [8.29912040e-01 8.19278573e-01 8.09524215e-01 8.51801329e-01\n",
      " 1.98358232e+04]\n",
      "加权（成交量）平均收盘价：\n",
      " [15.99990009 16.35559021]\n"
     ]
    }
   ],
   "source": [
    "import numpy as np # 导入numpy\n",
    "\n",
    "data = np.loadtxt('./stock_600848_202003.csv', delimiter=',', usecols=range(1,6)) # 从CSV文件读取第2-6列股票数据（分别对应股票每日的开盘价、最高价、收盘价、最低价和成交量）\n",
    "data_amax = np.amax(data, axis=0) # 分列计算各数据项最大值\n",
    "data_amin = np.amin(data, axis=0) # 分列计算各数据项最小值\n",
    "data_ptp = np.ptp(data, axis=0) # 分列计算各数据项波动幅度\n",
    "data_median = np.median(data, axis=0) # 分列计算各数据项中值\n",
    "data_p25 = np.percentile(data, q=25, axis=0) # 分列计算各数据项25百分位数\n",
    "data_p75 = np.percentile(data, q=75, axis=0) # 分列计算各数据项75百分位数\n",
    "data_mean = np.mean(data, axis=0) # 分列计算各数据项均值\n",
    "data_var = np.var(data, axis=0) # 分列计算各数据项方差\n",
    "data_std = np.std(data, axis=0) # 分列计算各数据项标准差\n",
    "print('最大值：\\n',data_amax)\n",
    "print('最小值：\\n',data_amin)\n",
    "print('波动幅度：\\n',data_ptp)\n",
    "print('最大值-最小值：\\n',data_amax-data_amin)\n",
    "print('中值：\\n',data_median)\n",
    "print('25百分位数：\\n',data_p25)\n",
    "print('75百分位数：\\n',data_p75)\n",
    "print('均值：\\n',data_mean)\n",
    "print('方差：\\n',data_var)\n",
    "print('根据均值计算方差：\\n',np.mean((data-data_mean)**2, axis=0))\n",
    "print('标准差：\\n',data_std)\n",
    "price = data[:,(0,2)] # 取第1列和第3列的开盘价和收盘价数据\n",
    "volume = data[:,4] # 取第5列成交量数据\n",
    "data_avg = np.average(price, weights=volume, axis=0) # 计算开盘价和收盘价的加权平均值（以成交量作为权值）\n",
    "print('加权（成交量）平均收盘价：\\n',data_avg)"
   ]
  },
  {
   "attachments": {},
   "cell_type": "markdown",
   "id": "a9094b80",
   "metadata": {},
   "source": [
    "# 对股票数据进行排序"
   ]
  },
  {
   "cell_type": "code",
   "execution_count": 35,
   "id": "fb7382ca",
   "metadata": {},
   "outputs": [
    {
     "name": "stdout",
     "output_type": "stream",
     "text": [
      "排序结果：\n",
      " [[(15.25 , 15.283, 15.358, 15.092,  29620.)]\n",
      " [(15.083, 14.958, 15.217, 14.933,  29820.)]\n",
      " [(14.833, 14.792, 15.   , 14.767,  30648.)]\n",
      " [(14.95 , 15.   , 15.233, 14.767,  34618.)]\n",
      " [(15.225, 15.008, 15.242, 14.975,  34692.)]\n",
      " [(17.25 , 17.133, 17.258, 17.067,  44897.)]\n",
      " [(15.567, 15.25 , 15.733, 15.125,  48094.)]\n",
      " [(16.583, 16.467, 16.65 , 16.358,  48113.)]\n",
      " [(16.35 , 16.817, 16.833, 16.35 ,  51902.)]\n",
      " [(15.917, 15.417, 15.975, 15.233,  52294.)]\n",
      " [(16.858, 17.142, 17.2  , 16.725,  52519.)]\n",
      " [(15.225, 15.275, 15.375, 15.083,  52548.)]\n",
      " [(15.175, 15.25 , 15.292, 14.8  ,  61516.)]\n",
      " [(16.983, 17.   , 17.392, 16.833,  62690.)]\n",
      " [(17.475, 17.283, 17.475, 17.167,  63113.)]\n",
      " [(16.175, 15.75 , 16.425, 15.667,  65307.)]\n",
      " [(16.675, 16.775, 17.167, 16.667,  66715.)]\n",
      " [(16.25 , 16.658, 16.742, 16.092,  67789.)]\n",
      " [(17.   , 16.592, 17.008, 16.592,  70047.)]\n",
      " [(15.792, 16.067, 16.217, 15.567,  72370.)]\n",
      " [(14.767, 15.583, 16.167, 14.4  ,  87474.)]\n",
      " [(15.5  , 16.   , 16.233, 15.258, 115167.)]]\n"
     ]
    }
   ],
   "source": [
    "import numpy as np # 导入numpy\n",
    "\n",
    "data = np.loadtxt('./stock_600848_202003.csv', delimiter=',', usecols=range(1,6)) # 从CSV文件读取第2-6列股票数据（分别对应股票每日的开盘价、最高价、收盘价、最低价和成交量）\n",
    "dt=np.dtype({'names':['open','high','close','low','volume'], 'formats':[np.float64]*5}) # 生成np.dtype对象，用于指定ndarray类数组对象的字段（即每一列）名称\n",
    "data.dtype = dt\n",
    "data_sorted = np.sort(data,axis=0,order=['volume'])\n",
    "print('排序结果：\\n',data_sorted)"
   ]
  },
  {
   "cell_type": "markdown",
   "id": "eea75785",
   "metadata": {},
   "source": [
    "# 计算股票收益率"
   ]
  },
  {
   "cell_type": "code",
   "execution_count": 37,
   "id": "953471a5",
   "metadata": {},
   "outputs": [
    {
     "name": "stdout",
     "output_type": "stream",
     "text": [
      "收盘价：\n",
      " [16.833 17.392 17.2   17.475 17.258 17.008 16.742 17.167 16.65  16.217\n",
      " 16.425 15.975 15.733 15.292 15.358 15.    15.233 15.375 15.242 15.217\n",
      " 16.167 16.233]\n",
      "普通收益率：\n",
      " [ 0.03320858 -0.01103956  0.01598837 -0.01241774 -0.01448604 -0.0156397\n",
      "  0.02538526 -0.03011592 -0.02600601  0.01282605 -0.02739726 -0.01514867\n",
      " -0.02803025  0.00431598 -0.02331033  0.01553333  0.00932187 -0.00865041\n",
      " -0.0016402   0.06243018  0.00408239]\n",
      "对数收益率：\n",
      " [ 0.03266908 -0.01110095  0.0158619  -0.01249548 -0.01459198 -0.01576329\n",
      "  0.0250684  -0.03057872 -0.02635014  0.01274449 -0.02777956 -0.01526458\n",
      " -0.0284306   0.0043067  -0.02358631  0.01541393  0.00927869 -0.00868804\n",
      " -0.00164155  0.0605589   0.00407408]\n",
      "正收益率数据索引：\n",
      " (array([ 0,  2,  6,  9, 13, 15, 16, 19, 20], dtype=int64),)\n",
      "正收益率详细信息：\n",
      "第1组：\n",
      "当日收盘价：16.833000，下一日收盘价：17.392000\n",
      "普通收益率：0.033209\n",
      "对数收益率：0.032669\n",
      "第2组：\n",
      "当日收盘价：17.200000，下一日收盘价：17.475000\n",
      "普通收益率：0.015988\n",
      "对数收益率：0.015862\n",
      "第3组：\n",
      "当日收盘价：16.742000，下一日收盘价：17.167000\n",
      "普通收益率：0.025385\n",
      "对数收益率：0.025068\n",
      "第4组：\n",
      "当日收盘价：16.217000，下一日收盘价：16.425000\n",
      "普通收益率：0.012826\n",
      "对数收益率：0.012744\n",
      "第5组：\n",
      "当日收盘价：15.292000，下一日收盘价：15.358000\n",
      "普通收益率：0.004316\n",
      "对数收益率：0.004307\n",
      "第6组：\n",
      "当日收盘价：15.000000，下一日收盘价：15.233000\n",
      "普通收益率：0.015533\n",
      "对数收益率：0.015414\n",
      "第7组：\n",
      "当日收盘价：15.233000，下一日收盘价：15.375000\n",
      "普通收益率：0.009322\n",
      "对数收益率：0.009279\n",
      "第8组：\n",
      "当日收盘价：15.217000，下一日收盘价：16.167000\n",
      "普通收益率：0.062430\n",
      "对数收益率：0.060559\n",
      "第9组：\n",
      "当日收盘价：16.167000，下一日收盘价：16.233000\n",
      "普通收益率：0.004082\n",
      "对数收益率：0.004074\n"
     ]
    }
   ],
   "source": [
    "import numpy as np # 导入numpy\n",
    "import math\n",
    "\n",
    "close_price = np.loadtxt('./stock_600848_202003.csv', delimiter=',', usecols=(3,), unpack=True) # 从CSV文件读取第4列股票数据（对应股票收盘价）\n",
    "print('收盘价：\\n', close_price)\n",
    "returns = np.diff(close_price)/close_price[:-1] # 计算普通收益率，计算方法：(后一天收盘价-前一天收盘价)/(前一天收盘价)\n",
    "logreturns = np.diff(np.log(close_price)) # 计算对数收益率，计算方法：ln(后一天收盘价)-ln(前一天收盘价)\n",
    "print('普通收益率：\\n', returns)\n",
    "print('对数收益率：\\n', logreturns)\n",
    "posret_indices = np.where(returns>0) # 找出正收益率的数据位置\n",
    "print('正收益率数据索引：\\n', posret_indices)\n",
    "print('正收益率详细信息：')\n",
    "for i in range(posret_indices[0].shape[0]):\n",
    "    print('第%d组：'%(i+1))\n",
    "    idx = posret_indices[0][i]\n",
    "    print('当日收盘价：%f，下一日收盘价：%f'%(close_price[idx],close_price[idx+1]))\n",
    "    print('普通收益率：%f'%((close_price[idx+1]-close_price[idx])/close_price[idx]))\n",
    "    print('对数收益率：%f'%(math.log(close_price[idx+1])-math.log(close_price[idx])))"
   ]
  },
  {
   "cell_type": "markdown",
   "id": "1d54f1a4",
   "metadata": {},
   "source": [
    "# 将股票数据由日均线转换为周线"
   ]
  },
  {
   "cell_type": "code",
   "execution_count": 38,
   "id": "341d2709",
   "metadata": {},
   "outputs": [
    {
     "name": "stdout",
     "output_type": "stream",
     "text": [
      "原始股票数据：\n",
      " [[    10.        16.35      16.817     16.833     16.35   51902.   ]\n",
      " [    10.        16.983     17.        17.392     16.833  62690.   ]\n",
      " [    10.        16.858     17.142     17.2       16.725  52519.   ]\n",
      " [    10.        17.475     17.283     17.475     17.167  63113.   ]\n",
      " [    10.        17.25      17.133     17.258     17.067  44897.   ]\n",
      " [    11.        17.        16.592     17.008     16.592  70047.   ]\n",
      " [    11.        16.25      16.658     16.742     16.092  67789.   ]\n",
      " [    11.        16.675     16.775     17.167     16.667  66715.   ]\n",
      " [    11.        16.583     16.467     16.65      16.358  48113.   ]\n",
      " [    11.        15.792     16.067     16.217     15.567  72370.   ]\n",
      " [    12.        16.175     15.75      16.425     15.667  65307.   ]\n",
      " [    12.        15.917     15.417     15.975     15.233  52294.   ]\n",
      " [    12.        15.567     15.25      15.733     15.125  48094.   ]\n",
      " [    12.        15.175     15.25      15.292     14.8    61516.   ]\n",
      " [    12.        15.25      15.283     15.358     15.092  29620.   ]\n",
      " [    13.        14.833     14.792     15.        14.767  30648.   ]\n",
      " [    13.        14.95      15.        15.233     14.767  34618.   ]\n",
      " [    13.        15.225     15.275     15.375     15.083  52548.   ]\n",
      " [    13.        15.225     15.008     15.242     14.975  34692.   ]\n",
      " [    13.        15.083     14.958     15.217     14.933  29820.   ]\n",
      " [    14.        14.767     15.583     16.167     14.4    87474.   ]\n",
      " [    14.        15.5       16.        16.233     15.258 115167.   ]]\n",
      "周起始数据索引：\n",
      " (array([10., 11., 12., 13., 14.]), array([ 0,  5, 10, 15, 20], dtype=int64))\n",
      "按周分组的数据：\n",
      " [array([[   10.   ,    16.35 ,    16.817,    16.833,    16.35 , 51902.   ],\n",
      "       [   10.   ,    16.983,    17.   ,    17.392,    16.833, 62690.   ],\n",
      "       [   10.   ,    16.858,    17.142,    17.2  ,    16.725, 52519.   ],\n",
      "       [   10.   ,    17.475,    17.283,    17.475,    17.167, 63113.   ],\n",
      "       [   10.   ,    17.25 ,    17.133,    17.258,    17.067, 44897.   ]]), array([[   11.   ,    17.   ,    16.592,    17.008,    16.592, 70047.   ],\n",
      "       [   11.   ,    16.25 ,    16.658,    16.742,    16.092, 67789.   ],\n",
      "       [   11.   ,    16.675,    16.775,    17.167,    16.667, 66715.   ],\n",
      "       [   11.   ,    16.583,    16.467,    16.65 ,    16.358, 48113.   ],\n",
      "       [   11.   ,    15.792,    16.067,    16.217,    15.567, 72370.   ]]), array([[   12.   ,    16.175,    15.75 ,    16.425,    15.667, 65307.   ],\n",
      "       [   12.   ,    15.917,    15.417,    15.975,    15.233, 52294.   ],\n",
      "       [   12.   ,    15.567,    15.25 ,    15.733,    15.125, 48094.   ],\n",
      "       [   12.   ,    15.175,    15.25 ,    15.292,    14.8  , 61516.   ],\n",
      "       [   12.   ,    15.25 ,    15.283,    15.358,    15.092, 29620.   ]]), array([[   13.   ,    14.833,    14.792,    15.   ,    14.767, 30648.   ],\n",
      "       [   13.   ,    14.95 ,    15.   ,    15.233,    14.767, 34618.   ],\n",
      "       [   13.   ,    15.225,    15.275,    15.375,    15.083, 52548.   ],\n",
      "       [   13.   ,    15.225,    15.008,    15.242,    14.975, 34692.   ],\n",
      "       [   13.   ,    15.083,    14.958,    15.217,    14.933, 29820.   ]]), array([[    14.   ,     14.767,     15.583,     16.167,     14.4  ,\n",
      "         87474.   ],\n",
      "       [    14.   ,     15.5  ,     16.   ,     16.233,     15.258,\n",
      "        115167.   ]])]\n",
      "周线数据：\n",
      " [[    10.        16.35      17.283     17.258     16.35  275121.\n",
      "       5.   ]\n",
      " [    11.        17.        16.775     16.217     15.567 325034.\n",
      "       5.   ]\n",
      " [    12.        16.175     15.75      15.358     14.8   256831.\n",
      "       5.   ]\n",
      " [    13.        14.833     15.275     15.217     14.767 182326.\n",
      "       5.   ]\n",
      " [    14.        14.767     16.        16.233     14.4   202641.\n",
      "       2.   ]]\n"
     ]
    }
   ],
   "source": [
    "import numpy as np # 导入numpy\n",
    "from datetime import datetime # 导入datetime\n",
    "\n",
    "np.set_printoptions(suppress=True) # 输出ndarray类数组对象时不用科学计数法\n",
    "\n",
    "def datestr2num(s): # 获取该日期属于一年中的第几周\n",
    "    return datetime.strptime(s.decode('utf-8'),'%Y-%m-%d').date().isocalendar()[1]\n",
    "\n",
    "data = np.loadtxt('./stock_600848_202003.csv', delimiter=',', converters={0:datestr2num}, usecols=range(6)) # 从CSV文件读取前6列股票数据（分别对应股票日期及每日的开盘价、最高价、收盘价、最低价和成交量，其中股票日期会被转换为一年中的第几周）\n",
    "print('原始股票数据：\\n',data)\n",
    "split_idx = np.unique(data[:,0],return_index=True) # 获取周起始数据索引\n",
    "print('周起始数据索引：\\n',split_idx)\n",
    "week_split = np.split(data, split_idx[1][1:]) # 根据周起始数据索引进行数据划分（第一个周起始数据索引不用于划分）\n",
    "print('按周分组的数据：\\n',week_split)\n",
    "for idx in range(len(week_split)): # 依次访问每周的数据\n",
    "    w = week_split[idx] # 获取当前周数据（二维ndarray类数组对象）\n",
    "    w_open = w[0, 1] # 第一天的开盘价作为当前周的开盘价\n",
    "    w_close = w[-1, 3] # 最后一天的收盘价作为当前周的收盘价\n",
    "    w_high = np.amax(w[:, 2]) # 最高价的最大值作为当前周的最高价\n",
    "    w_low = np.amin(w[:, 4]) # 最低价的最小值作为当前周的最低价\n",
    "    w_volume = np.sum(w[:, 5]) # 成交量的总和作为当前周的成交量\n",
    "    w_no = w[0, 0] # 一年中的第几周\n",
    "    w_days = w.shape[0] # 当前周的天数\n",
    "    w_data = np.array([w_no, w_open, w_high, w_close, w_low, w_volume, w_days]) # 根据当前周数据生成一维ndarray类数组对象\n",
    "    if idx==0: # 如果是第一个周数据，则直接赋给week_data\n",
    "        week_data = w_data\n",
    "    else: # 否则，通过垂直堆叠将当前周数据放在已有周数据后面\n",
    "        week_data = np.vstack((week_data, w_data))\n",
    "print('周线数据：\\n',week_data)"
   ]
  },
  {
   "cell_type": "markdown",
   "id": "28183ff8",
   "metadata": {},
   "source": [
    "# 高级索引程序示例"
   ]
  },
  {
   "cell_type": "code",
   "execution_count": 39,
   "id": "acb934e3",
   "metadata": {},
   "outputs": [
    {
     "name": "stdout",
     "output_type": "stream",
     "text": [
      "a[x]:\n",
      " [[1.5 3.5 0.9]\n",
      " [2.1 1.9 0.7]\n",
      " [1.5 3.5 0.9]]\n",
      "a[y]:\n",
      " [[[1.1 2.3 1.5]\n",
      "  [2.1 1.9 0.7]\n",
      "  [2.1 1.9 0.7]]\n",
      "\n",
      " [[1.5 3.5 0.9]\n",
      "  [2.1 1.9 0.7]\n",
      "  [1.1 2.3 1.5]]]\n",
      "a[m,n]:\n",
      " [2.1 3.5]\n",
      "a[(1,2),(0,1)]:\n",
      " [2.1 3.5]\n",
      "a[i,j]:\n",
      " [[2.1 3.5]\n",
      " [2.3 0.7]]\n",
      "w:\n",
      " [[False  True False]\n",
      " [ True  True False]\n",
      " [False  True False]]\n",
      "a[w]:\n",
      " [2.3 2.1 1.9 3.5]\n",
      "a:\n",
      " [[1.1 0.  1.5]\n",
      " [0.  0.  0.7]\n",
      " [1.5 0.  0.9]]\n"
     ]
    }
   ],
   "source": [
    "import numpy as np\n",
    "a = np.array([ # 创建3行3列的二维数组\n",
    "    [1.1, 2.3, 1.5],\n",
    "    [2.1, 1.9, 0.7],\n",
    "    [1.5, 3.5, 0.9]\n",
    "])\n",
    "x = np.array([2,1,2])\n",
    "print('a[x]:\\n',a[x])\n",
    "y = np.array([[0,1,1],[2,1,0]])\n",
    "print('a[y]:\\n',a[y])\n",
    "m = np.array([1,2])\n",
    "n = np.array([0,1])\n",
    "print('a[m,n]:\\n',a[m,n])\n",
    "print('a[(1,2),(0,1)]:\\n',a[(1,2),(0,1)])\n",
    "i = np.array([[1,2],[0,1]])\n",
    "j = np.array([[0,1],[1,2]])\n",
    "print('a[i,j]:\\n',a[i,j])\n",
    "w = a>1.5\n",
    "print('w:\\n',w)\n",
    "print('a[w]:\\n',a[w])\n",
    "a[w] = 0\n",
    "print('a:\\n',a)"
   ]
  },
  {
   "cell_type": "markdown",
   "id": "f46c0ce5",
   "metadata": {},
   "source": [
    "# 根据收盘价和开盘价大小关系获取股票数据"
   ]
  },
  {
   "cell_type": "code",
   "execution_count": 40,
   "id": "6123d82b",
   "metadata": {},
   "outputs": [
    {
     "name": "stdout",
     "output_type": "stream",
     "text": [
      "收盘价大于开盘价判断结果：\n",
      " [ True  True  True False  True  True  True  True  True  True  True  True\n",
      "  True  True  True  True  True  True  True  True  True  True]\n",
      "开盘价和收盘价水平堆叠结果：\n",
      " [[16.35  16.833]\n",
      " [16.983 17.392]\n",
      " [16.858 17.2  ]\n",
      " [17.475 17.475]\n",
      " [17.25  17.258]\n",
      " [17.    17.008]\n",
      " [16.25  16.742]\n",
      " [16.675 17.167]\n",
      " [16.583 16.65 ]\n",
      " [15.792 16.217]\n",
      " [16.175 16.425]\n",
      " [15.917 15.975]\n",
      " [15.567 15.733]\n",
      " [15.175 15.292]\n",
      " [15.25  15.358]\n",
      " [14.833 15.   ]\n",
      " [14.95  15.233]\n",
      " [15.225 15.375]\n",
      " [15.225 15.242]\n",
      " [15.083 15.217]\n",
      " [14.767 16.167]\n",
      " [15.5   16.233]]\n",
      "收盘价大于开盘价的数据：\n",
      " [[16.35  16.833]\n",
      " [16.983 17.392]\n",
      " [16.858 17.2  ]\n",
      " [17.25  17.258]\n",
      " [17.    17.008]\n",
      " [16.25  16.742]\n",
      " [16.675 17.167]\n",
      " [16.583 16.65 ]\n",
      " [15.792 16.217]\n",
      " [16.175 16.425]\n",
      " [15.917 15.975]\n",
      " [15.567 15.733]\n",
      " [15.175 15.292]\n",
      " [15.25  15.358]\n",
      " [14.833 15.   ]\n",
      " [14.95  15.233]\n",
      " [15.225 15.375]\n",
      " [15.225 15.242]\n",
      " [15.083 15.217]\n",
      " [14.767 16.167]\n",
      " [15.5   16.233]]\n",
      "收盘价大于开盘价的比例：0.95\n",
      "收盘价小于等于开盘价的比例：0.05\n"
     ]
    }
   ],
   "source": [
    "import numpy as np # 导入numpy\n",
    "\n",
    "open_price,close_price = np.loadtxt('./stock_600848_202003.csv', delimiter=',', usecols=(1,3), unpack=True) # 从CSV文件读取第2列和第4列股票数据（分别对应股票每日的开盘价和收盘价）\n",
    "boolidx = close_price>open_price # 收盘价大于开盘价\n",
    "print('收盘价大于开盘价判断结果：\\n',boolidx)\n",
    "price = np.hstack((open_price.reshape(-1,1), close_price.reshape(-1,1))) # 将open_price和close_price水平堆叠\n",
    "print('开盘价和收盘价水平堆叠结果：\\n',price)\n",
    "raise_data = price[boolidx] # 获取收盘价大于开盘价的数据\n",
    "print('收盘价大于开盘价的数据：\\n',raise_data)\n",
    "print('收盘价大于开盘价的比例：%.2f'%(len(raise_data)/len(price)))\n",
    "print('收盘价小于等于开盘价的比例：%.2f'%(len(price[close_price<=open_price])/len(price)))"
   ]
  },
  {
   "cell_type": "markdown",
   "id": "aece64ae",
   "metadata": {},
   "source": [
    "# 按周序号进行股票数据分组"
   ]
  },
  {
   "cell_type": "code",
   "execution_count": 41,
   "id": "00f9be0a",
   "metadata": {},
   "outputs": [
    {
     "name": "stdout",
     "output_type": "stream",
     "text": [
      "周序号：\n",
      " [10. 11. 12. 13. 14.]\n",
      "按周序号分组的数据：\n",
      " [array([[   10.   ,    16.35 ,    16.817,    16.833,    16.35 , 51902.   ],\n",
      "       [   10.   ,    16.983,    17.   ,    17.392,    16.833, 62690.   ],\n",
      "       [   10.   ,    16.858,    17.142,    17.2  ,    16.725, 52519.   ],\n",
      "       [   10.   ,    17.475,    17.283,    17.475,    17.167, 63113.   ],\n",
      "       [   10.   ,    17.25 ,    17.133,    17.258,    17.067, 44897.   ]]), array([[   11.   ,    17.   ,    16.592,    17.008,    16.592, 70047.   ],\n",
      "       [   11.   ,    16.25 ,    16.658,    16.742,    16.092, 67789.   ],\n",
      "       [   11.   ,    16.675,    16.775,    17.167,    16.667, 66715.   ],\n",
      "       [   11.   ,    16.583,    16.467,    16.65 ,    16.358, 48113.   ],\n",
      "       [   11.   ,    15.792,    16.067,    16.217,    15.567, 72370.   ]]), array([[   12.   ,    16.175,    15.75 ,    16.425,    15.667, 65307.   ],\n",
      "       [   12.   ,    15.917,    15.417,    15.975,    15.233, 52294.   ],\n",
      "       [   12.   ,    15.567,    15.25 ,    15.733,    15.125, 48094.   ],\n",
      "       [   12.   ,    15.175,    15.25 ,    15.292,    14.8  , 61516.   ],\n",
      "       [   12.   ,    15.25 ,    15.283,    15.358,    15.092, 29620.   ]]), array([[   13.   ,    14.833,    14.792,    15.   ,    14.767, 30648.   ],\n",
      "       [   13.   ,    14.95 ,    15.   ,    15.233,    14.767, 34618.   ],\n",
      "       [   13.   ,    15.225,    15.275,    15.375,    15.083, 52548.   ],\n",
      "       [   13.   ,    15.225,    15.008,    15.242,    14.975, 34692.   ],\n",
      "       [   13.   ,    15.083,    14.958,    15.217,    14.933, 29820.   ]]), array([[    14.   ,     14.767,     15.583,     16.167,     14.4  ,\n",
      "         87474.   ],\n",
      "       [    14.   ,     15.5  ,     16.   ,     16.233,     15.258,\n",
      "        115167.   ]])]\n"
     ]
    }
   ],
   "source": [
    "import numpy as np # 导入numpy\n",
    "from datetime import datetime # 导入datetime\n",
    "\n",
    "np.set_printoptions(suppress=True) # 输出ndarray类数组对象时不用科学计数法\n",
    "\n",
    "def datestr2num(s): # 获取该日期属于一年中的第几周\n",
    "    return datetime.strptime(s.decode('utf-8'),'%Y-%m-%d').date().isocalendar()[1]\n",
    "\n",
    "data = np.loadtxt('./stock_600848_202003.csv', delimiter=',', converters={0:datestr2num}, usecols=range(6)) # 从CSV文件读取前6列股票数据（分别对应股票日期及每日的开盘价、最高价、收盘价、最低价和成交量，其中股票日期会被转换为一年中的第几周）\n",
    "week_no = np.unique(data[:,0]) # 获取所有周序号（即一年中的第几周，滤除重复的周序号）\n",
    "print('周序号：\\n',week_no)\n",
    "week_data = [data[data[:,0]==x] for x in week_no]\n",
    "print('按周序号分组的数据：\\n',week_data)"
   ]
  },
  {
   "cell_type": "code",
   "execution_count": null,
   "id": "e02819b5",
   "metadata": {},
   "outputs": [],
   "source": []
  }
 ],
 "metadata": {
  "kernelspec": {
   "display_name": "Python 3.10.8 64-bit",
   "language": "python",
   "name": "python3"
  },
  "language_info": {
   "codemirror_mode": {
    "name": "ipython",
    "version": 3
   },
   "file_extension": ".py",
   "mimetype": "text/x-python",
   "name": "python",
   "nbconvert_exporter": "python",
   "pygments_lexer": "ipython3",
   "version": "3.10.8"
  },
  "vscode": {
   "interpreter": {
    "hash": "6f21bb2d5c565dbc33d815445cee0d4e3f2f7951520fd8c0e3b4200672f41bfe"
   }
  }
 },
 "nbformat": 4,
 "nbformat_minor": 5
}
