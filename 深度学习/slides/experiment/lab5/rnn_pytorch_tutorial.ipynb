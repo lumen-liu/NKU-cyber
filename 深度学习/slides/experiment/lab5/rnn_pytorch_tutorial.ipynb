{
 "cells": [
  {
   "cell_type": "markdown",
   "id": "b0386667",
   "metadata": {},
   "source": [
    "# RNN Tutorial"
   ]
  },
  {
   "cell_type": "markdown",
   "id": "888043a3",
   "metadata": {},
   "source": [
    "Included in the data/names directory are 18 text files named as “[Language].txt”. Each file contains a bunch of names, one name per line, mostly romanized (but we still need to convert from Unicode to ASCII).\n",
    "\n",
    "We’ll end up with a dictionary of lists of names per language, {language: [names ...]}. The generic variables “category” and “line” (for language and name in our case) are used for later extensibility."
   ]
  },
  {
   "cell_type": "code",
   "execution_count": 1,
   "id": "b44343fa",
   "metadata": {
    "scrolled": true
   },
   "outputs": [
    {
     "name": "stdout",
     "output_type": "stream",
     "text": [
      "['../data/names\\\\Arabic.txt', '../data/names\\\\Chinese.txt', '../data/names\\\\Czech.txt', '../data/names\\\\Dutch.txt', '../data/names\\\\English.txt', '../data/names\\\\French.txt', '../data/names\\\\German.txt', '../data/names\\\\Greek.txt', '../data/names\\\\Irish.txt', '../data/names\\\\Italian.txt', '../data/names\\\\Japanese.txt', '../data/names\\\\Korean.txt', '../data/names\\\\Polish.txt', '../data/names\\\\Portuguese.txt', '../data/names\\\\Russian.txt', '../data/names\\\\Scottish.txt', '../data/names\\\\Spanish.txt', '../data/names\\\\Vietnamese.txt']\n",
      "Slusarski\n"
     ]
    }
   ],
   "source": [
    "from __future__ import unicode_literals, print_function, division\n",
    "from io import open\n",
    "import glob\n",
    "import os\n",
    "\n",
    "def findFiles(path): return glob.glob(path)\n",
    "\n",
    "print(findFiles('../data/names/*.txt'))\n",
    "\n",
    "import unicodedata\n",
    "import string\n",
    "\n",
    "all_letters = string.ascii_letters + \" .,;'\"\n",
    "n_letters = len(all_letters)\n",
    "\n",
    "# Turn a Unicode string to plain ASCII, thanks to https://stackoverflow.com/a/518232/2809427\n",
    "def unicodeToAscii(s):\n",
    "    return ''.join(\n",
    "        c for c in unicodedata.normalize('NFD', s)\n",
    "        if unicodedata.category(c) != 'Mn'\n",
    "        and c in all_letters\n",
    "    )\n",
    "\n",
    "print(unicodeToAscii('Ślusàrski'))\n",
    "\n",
    "# Build the category_lines dictionary, a list of names per language\n",
    "category_lines = {}\n",
    "all_categories = []\n",
    "\n",
    "# Read a file and split into lines\n",
    "def readLines(filename):\n",
    "    lines = open(filename, encoding='utf-8').read().strip().split('\\n')\n",
    "    return [unicodeToAscii(line) for line in lines]\n",
    "\n",
    "for filename in findFiles('../data/names/*.txt'):\n",
    "    category = os.path.splitext(os.path.basename(filename))[0]\n",
    "    all_categories.append(category)\n",
    "    lines = readLines(filename)\n",
    "    category_lines[category] = lines\n",
    "\n",
    "n_categories = len(all_categories)"
   ]
  },
  {
   "cell_type": "markdown",
   "id": "e58f58a0",
   "metadata": {},
   "source": [
    "Now we have category_lines, a dictionary mapping each category (language) to a list of lines (names). We also kept track of all_categories (just a list of languages) and n_categories for later reference."
   ]
  },
  {
   "cell_type": "code",
   "execution_count": 2,
   "id": "03a992d9",
   "metadata": {},
   "outputs": [
    {
     "name": "stdout",
     "output_type": "stream",
     "text": [
      "['Abandonato', 'Abatangelo', 'Abatantuono', 'Abate', 'Abategiovanni']\n"
     ]
    }
   ],
   "source": [
    "print(category_lines['Italian'][:5])"
   ]
  },
  {
   "cell_type": "markdown",
   "id": "6c219cf0",
   "metadata": {},
   "source": [
    "### Turning Names into Tensors\n",
    "Now that we have all the names organized, we need to turn them into Tensors to make any use of them.\n",
    "\n",
    "To represent a single letter, we use a “one-hot vector” of size <1 x n_letters>. A one-hot vector is filled with 0s except for a 1 at index of the current letter, e.g. \"b\" = <0 1 0 0 0 ...>.\n",
    "\n",
    "To make a word we join a bunch of those into a 2D matrix <line_length x 1 x n_letters>.\n",
    "\n",
    "That extra 1 dimension is because PyTorch assumes everything is in batches - we’re just using a batch size of 1 here."
   ]
  },
  {
   "cell_type": "code",
   "execution_count": 3,
   "id": "c479aae7",
   "metadata": {
    "scrolled": true
   },
   "outputs": [
    {
     "name": "stdout",
     "output_type": "stream",
     "text": [
      "tensor([[0., 0., 0., 0., 0., 0., 0., 0., 0., 0., 0., 0., 0., 0., 0., 0., 0., 0.,\n",
      "         0., 0., 0., 0., 0., 0., 0., 0., 0., 0., 0., 0., 0., 0., 0., 0., 0., 1.,\n",
      "         0., 0., 0., 0., 0., 0., 0., 0., 0., 0., 0., 0., 0., 0., 0., 0., 0., 0.,\n",
      "         0., 0., 0.]])\n",
      "torch.Size([5, 1, 57])\n"
     ]
    }
   ],
   "source": [
    "import torch\n",
    "\n",
    "# Find letter index from all_letters, e.g. \"a\" = 0\n",
    "def letterToIndex(letter):\n",
    "    return all_letters.find(letter)\n",
    "\n",
    "# Just for demonstration, turn a letter into a <1 x n_letters> Tensor\n",
    "def letterToTensor(letter):\n",
    "    tensor = torch.zeros(1, n_letters)\n",
    "    tensor[0][letterToIndex(letter)] = 1\n",
    "    return tensor\n",
    "\n",
    "# Turn a line into a <line_length x 1 x n_letters>,\n",
    "# or an array of one-hot letter vectors\n",
    "def lineToTensor(line):\n",
    "    tensor = torch.zeros(len(line), 1, n_letters)\n",
    "    for li, letter in enumerate(line):\n",
    "        tensor[li][0][letterToIndex(letter)] = 1\n",
    "    return tensor\n",
    "\n",
    "print(letterToTensor('J'))\n",
    "\n",
    "print(lineToTensor('Jones').size())"
   ]
  },
  {
   "cell_type": "markdown",
   "id": "8a979493",
   "metadata": {},
   "source": [
    "### Creating the Network\n",
    "Before autograd, creating a recurrent neural network in Torch involved cloning the parameters of a layer over several timesteps. The layers held hidden state and gradients which are now entirely handled by the graph itself. This means you can implement a RNN in a very “pure” way, as regular feed-forward layers.\n",
    "\n",
    "This RNN module (mostly copied from the PyTorch for Torch users tutorial) is just 2 linear layers which operate on an input and hidden state, with a LogSoftmax layer after the output."
   ]
  },
  {
   "attachments": {
    "rnn.png": {
     "image/png": "[encoded data removed]"
    }
   },
   "cell_type": "markdown",
   "id": "a5802423",
   "metadata": {},
   "source": [
    "![rnn.png](attachment:rnn.png)"
   ]
  },
  {
   "cell_type": "code",
   "execution_count": 4,
   "id": "cc618041",
   "metadata": {},
   "outputs": [],
   "source": [
    "import torch.nn as nn\n",
    "\n",
    "class RNN(nn.Module):\n",
    "    def __init__(self, input_size, hidden_size, output_size):\n",
    "        super(RNN, self).__init__()\n",
    "\n",
    "        self.hidden_size = hidden_size\n",
    "\n",
    "        self.i2h = nn.Linear(input_size + hidden_size, hidden_size)\n",
    "        self.i2o = nn.Linear(input_size + hidden_size, output_size)\n",
    "        self.softmax = nn.LogSoftmax(dim=1)\n",
    "\n",
    "    def forward(self, input, hidden):\n",
    "        combined = torch.cat((input, hidden), 1)\n",
    "        hidden = self.i2h(combined)\n",
    "        output = self.i2o(combined)\n",
    "        output = self.softmax(output)\n",
    "        return output, hidden\n",
    "\n",
    "    def initHidden(self):\n",
    "        return torch.zeros(1, self.hidden_size)\n",
    "\n",
    "n_hidden = 128\n",
    "rnn = RNN(n_letters, n_hidden, n_categories)"
   ]
  },
  {
   "cell_type": "code",
   "execution_count": 5,
   "id": "c27f5033",
   "metadata": {},
   "outputs": [],
   "source": [
    "import torch.nn as nn\n",
    "\n",
    "class LSTM(nn.Module):\n",
    "    def __init__(self, input_size, hidden_size, output_size):\n",
    "        super(LSTM, self).__init__()\n",
    "\n",
    "        self.hidden_size = hidden_size\n",
    "\n",
    "        self.rnn = nn.LSTM(input_size, hidden_size)\n",
    "        self.out = nn.Linear(hidden_size, output_size)\n",
    "        self.softmax = nn.LogSoftmax(dim=-1)\n",
    "\n",
    "    def forward(self, input, h, c):\n",
    "#         combined = torch.cat((input, hidden), 1)\n",
    "        out, (h, c) = self.rnn(input, (h, c))\n",
    "        output = self.out(out)\n",
    "        output = self.softmax(output)\n",
    "        return output, h, c\n",
    "\n",
    "    def initHidden(self):\n",
    "        return torch.zeros(1, 1, self.hidden_size), torch.zeros(1, 1, self.hidden_size)\n",
    "\n",
    "n_hidden = 64\n",
    "rnn = LSTM(n_letters, n_hidden, n_categories)"
   ]
  },
  {
   "cell_type": "markdown",
   "id": "9e1fa5ee",
   "metadata": {},
   "source": [
    "To run a step of this network we need to pass an input (in our case, the Tensor for the current letter) and a previous hidden state (which we initialize as zeros at first). We’ll get back the output (probability of each language) and a next hidden state (which we keep for the next step)."
   ]
  },
  {
   "cell_type": "code",
   "execution_count": 6,
   "id": "b4b9eecb",
   "metadata": {},
   "outputs": [
    {
     "name": "stdout",
     "output_type": "stream",
     "text": [
      "torch.Size([1, 57])\n"
     ]
    }
   ],
   "source": [
    "input = letterToTensor('A')\n",
    "print(input.size())\n",
    "hidden = torch.zeros(1, n_hidden)\n",
    "\n",
    "h, c = rnn.initHidden()\n",
    "output = rnn(input.unsqueeze(1), h, c)"
   ]
  },
  {
   "cell_type": "markdown",
   "id": "eb17c8f1",
   "metadata": {},
   "source": [
    "For the sake of efficiency we don’t want to be creating a new Tensor for every step, so we will use lineToTensor instead of letterToTensor and use slices. This could be further optimized by pre-computing batches of Tensors."
   ]
  },
  {
   "cell_type": "code",
   "execution_count": 7,
   "id": "b5c2d9ad",
   "metadata": {},
   "outputs": [
    {
     "name": "stdout",
     "output_type": "stream",
     "text": [
      "torch.Size([6, 1, 57])\n",
      "tensor([[[0.0604, 0.0601, 0.0575, 0.0469, 0.0527, 0.0572, 0.0504, 0.0559,\n",
      "          0.0541, 0.0583, 0.0557, 0.0578, 0.0614, 0.0570, 0.0502, 0.0544,\n",
      "          0.0621, 0.0479]],\n",
      "\n",
      "        [[0.0595, 0.0614, 0.0578, 0.0458, 0.0539, 0.0573, 0.0502, 0.0570,\n",
      "          0.0529, 0.0585, 0.0554, 0.0583, 0.0622, 0.0564, 0.0509, 0.0549,\n",
      "          0.0603, 0.0475]],\n",
      "\n",
      "        [[0.0600, 0.0620, 0.0581, 0.0454, 0.0526, 0.0577, 0.0495, 0.0562,\n",
      "          0.0535, 0.0587, 0.0554, 0.0582, 0.0619, 0.0568, 0.0509, 0.0546,\n",
      "          0.0599, 0.0486]],\n",
      "\n",
      "        [[0.0596, 0.0626, 0.0577, 0.0456, 0.0527, 0.0577, 0.0509, 0.0563,\n",
      "          0.0533, 0.0585, 0.0551, 0.0586, 0.0621, 0.0562, 0.0505, 0.0544,\n",
      "          0.0598, 0.0484]],\n",
      "\n",
      "        [[0.0586, 0.0611, 0.0585, 0.0465, 0.0539, 0.0566, 0.0514, 0.0564,\n",
      "          0.0541, 0.0592, 0.0556, 0.0594, 0.0628, 0.0556, 0.0497, 0.0542,\n",
      "          0.0595, 0.0467]],\n",
      "\n",
      "        [[0.0597, 0.0614, 0.0585, 0.0465, 0.0536, 0.0559, 0.0511, 0.0560,\n",
      "          0.0533, 0.0597, 0.0557, 0.0597, 0.0630, 0.0562, 0.0492, 0.0529,\n",
      "          0.0607, 0.0470]]], grad_fn=<ExpBackward0>)\n"
     ]
    }
   ],
   "source": [
    "input = lineToTensor('Albert')\n",
    "print(input.size())\n",
    "hidden = torch.zeros(1, n_hidden)\n",
    "\n",
    "h, c = rnn.initHidden()\n",
    "output, h, c = rnn(input, h, c)\n",
    "print(torch.exp(output))"
   ]
  },
  {
   "cell_type": "markdown",
   "id": "7cf3d70c",
   "metadata": {},
   "source": [
    "As you can see the output is a <1 x n_categories> Tensor, where every item is the likelihood of that category (higher is more likely)."
   ]
  },
  {
   "cell_type": "markdown",
   "id": "5b07c378",
   "metadata": {},
   "source": [
    "### Preparing for Training\n",
    "Before going into training we should make a few helper functions. The first is to interpret the output of the network, which we know to be a likelihood of each category. We can use Tensor.topk to get the index of the greatest value:"
   ]
  },
  {
   "cell_type": "code",
   "execution_count": 8,
   "id": "0fa90972",
   "metadata": {},
   "outputs": [
    {
     "name": "stdout",
     "output_type": "stream",
     "text": [
      "('Spanish', 16)\n"
     ]
    }
   ],
   "source": [
    "def categoryFromOutput(output):\n",
    "    top_n, top_i = output.topk(1)\n",
    "    category_i = top_i[0].item()\n",
    "    return all_categories[category_i], category_i\n",
    "\n",
    "print(categoryFromOutput(output))"
   ]
  },
  {
   "cell_type": "markdown",
   "id": "627e3f73",
   "metadata": {},
   "source": [
    "We will also want a quick way to get a training example (a name and its language):"
   ]
  },
  {
   "cell_type": "code",
   "execution_count": 9,
   "id": "2c3ee352",
   "metadata": {},
   "outputs": [
    {
     "name": "stdout",
     "output_type": "stream",
     "text": [
      "category = Dutch / line = Raske\n",
      "category = Russian / line = Chadovich\n",
      "category = Italian / line = Gori\n",
      "category = Polish / line = Gorski\n",
      "category = Vietnamese / line = Tieu\n",
      "category = Polish / line = Sokoloff\n",
      "category = Polish / line = Wronski\n",
      "category = Portuguese / line = Franco\n",
      "category = Spanish / line = Valdez\n",
      "category = German / line = Aleshire\n"
     ]
    }
   ],
   "source": [
    "import random\n",
    "\n",
    "def randomChoice(l):\n",
    "    return l[random.randint(0, len(l) - 1)]\n",
    "\n",
    "def randomTrainingExample():\n",
    "    category = randomChoice(all_categories)\n",
    "    line = randomChoice(category_lines[category])\n",
    "    category_tensor = torch.tensor([all_categories.index(category)], dtype=torch.long)\n",
    "    line_tensor = lineToTensor(line)\n",
    "    return category, line, category_tensor, line_tensor\n",
    "\n",
    "for i in range(10):\n",
    "    category, line, category_tensor, line_tensor = randomTrainingExample()\n",
    "    print('category =', category, '/ line =', line)"
   ]
  },
  {
   "cell_type": "markdown",
   "id": "c40c4996",
   "metadata": {},
   "source": [
    "### Training the Network\n",
    "Now all it takes to train this network is show it a bunch of examples, have it make guesses, and tell it if it’s wrong.\n",
    "\n",
    "For the loss function nn.NLLLoss is appropriate, since the last layer of the RNN is nn.LogSoftmax."
   ]
  },
  {
   "cell_type": "code",
   "execution_count": 10,
   "id": "122bdeff",
   "metadata": {},
   "outputs": [],
   "source": [
    "criterion = nn.NLLLoss()"
   ]
  },
  {
   "cell_type": "markdown",
   "id": "e304bb71",
   "metadata": {},
   "source": [
    "Each loop of training will:\n",
    "\n",
    "- Create input and target tensors\n",
    "- Create a zeroed initial hidden state\n",
    "- Read each letter in and keep hidden state for next letter\n",
    "- Compare final output to target\n",
    "- Back-propagate\n",
    "- Return the output and loss"
   ]
  },
  {
   "cell_type": "code",
   "execution_count": 11,
   "id": "602ea715",
   "metadata": {},
   "outputs": [],
   "source": [
    "learning_rate = 0.005 # If you set this too high, it might explode. If too low, it might not learn\n",
    "\n",
    "def train(category_tensor, line_tensor):\n",
    "    h0, c0 = rnn.initHidden()\n",
    "\n",
    "    rnn.zero_grad()\n",
    "\n",
    "#     print(line_tensor.size())\n",
    "#     for i in range(line_tensor.size()[0]):\n",
    "#         output, hidden = rnn(line_tensor[i], hidden)\n",
    "    output, h, c = rnn(line_tensor, h0, c0)\n",
    "\n",
    "    loss = criterion(output[-1], category_tensor)\n",
    "    loss.backward()\n",
    "\n",
    "    # Add parameters' gradients to their values, multiplied by learning rate\n",
    "    for p in rnn.parameters():\n",
    "        p.data.add_(p.grad.data, alpha=-learning_rate)\n",
    "\n",
    "    return output, loss.item()"
   ]
  },
  {
   "cell_type": "markdown",
   "id": "eed19e81",
   "metadata": {},
   "source": [
    "Now we just have to run that with a bunch of examples. Since the train function returns both the output and loss we can print its guesses and also keep track of loss for plotting. Since there are 1000s of examples we print only every print_every examples, and take an average of the loss."
   ]
  },
  {
   "cell_type": "code",
   "execution_count": null,
   "id": "e0dfe2c3",
   "metadata": {},
   "outputs": [
    {
     "name": "stdout",
     "output_type": "stream",
     "text": [
      "5000 1% (0m 20s) 2.8172 Wang / Korean ✗ (Chinese)\n",
      "10000 3% (0m 29s) 2.8278 Kalakos / English ✗ (Greek)\n",
      "15000 5% (0m 39s) 2.8071 Sokolofsky / Greek ✗ (Polish)\n"
     ]
    }
   ],
   "source": [
    "import time\n",
    "import math\n",
    "\n",
    "n_iters = 300000\n",
    "print_every = 5000\n",
    "plot_every = 1000\n",
    "\n",
    "\n",
    "\n",
    "# Keep track of losses for plotting\n",
    "current_loss = 0\n",
    "all_losses = []\n",
    "\n",
    "def timeSince(since):\n",
    "    now = time.time()\n",
    "    s = now - since\n",
    "    m = math.floor(s / 60)\n",
    "    s -= m * 60\n",
    "    return '%dm %ds' % (m, s)\n",
    "\n",
    "start = time.time()\n",
    "\n",
    "for iter in range(1, n_iters + 1):\n",
    "    category, line, category_tensor, line_tensor = randomTrainingExample()\n",
    "    output, loss = train(category_tensor, line_tensor)\n",
    "    current_loss += loss\n",
    "\n",
    "    # Print iter number, loss, name and guess\n",
    "    if iter % print_every == 0:\n",
    "        guess, guess_i = categoryFromOutput(output[-1])\n",
    "        correct = '✓' if guess == category else '✗ (%s)' % category\n",
    "        print('%d %d%% (%s) %.4f %s / %s %s' % (iter, iter / n_iters * 100, timeSince(start), loss, line, guess, correct))\n",
    "\n",
    "    # Add current loss avg to list of losses\n",
    "    if iter % plot_every == 0:\n",
    "        all_losses.append(current_loss / plot_every)\n",
    "        current_loss = 0"
   ]
  },
  {
   "cell_type": "markdown",
   "id": "9919c0b4",
   "metadata": {},
   "source": [
    "### Plotting the Results\n",
    "Plotting the historical loss from all_losses shows the network learning:"
   ]
  },
  {
   "cell_type": "code",
   "execution_count": 13,
   "id": "5533ea72",
   "metadata": {},
   "outputs": [
    {
     "data": {
      "text/plain": [
       "[<matplotlib.lines.Line2D at 0x2426bb0ca08>]"
      ]
     },
     "execution_count": 13,
     "metadata": {},
     "output_type": "execute_result"
    },
    {
     "data": {
      "image/png": "[encoded data removed]",
      "text/plain": [
       "<Figure size 432x288 with 1 Axes>"
      ]
     },
     "metadata": {
      "needs_background": "light"
     },
     "output_type": "display_data"
    }
   ],
   "source": [
    "import matplotlib.pyplot as plt\n",
    "import matplotlib.ticker as ticker\n",
    "\n",
    "plt.figure()\n",
    "plt.plot(all_losses)"
   ]
  },
  {
   "cell_type": "markdown",
   "id": "44d8a092",
   "metadata": {},
   "source": [
    "### Evaluating the Results\n",
    "To see how well the network performs on different categories, we will create a confusion matrix, indicating for every actual language (rows) which language the network guesses (columns). To calculate the confusion matrix a bunch of samples are run through the network with evaluate(), which is the same as train() minus the backprop."
   ]
  },
  {
   "cell_type": "code",
   "execution_count": 14,
   "id": "71e6c595",
   "metadata": {
    "scrolled": true
   },
   "outputs": [
    {
     "name": "stderr",
     "output_type": "stream",
     "text": [
      "C:\\Users\\Admin\\miniconda3\\envs\\py37\\lib\\site-packages\\ipykernel_launcher.py:33: UserWarning: FixedFormatter should only be used together with FixedLocator\n",
      "C:\\Users\\Admin\\miniconda3\\envs\\py37\\lib\\site-packages\\ipykernel_launcher.py:34: UserWarning: FixedFormatter should only be used together with FixedLocator\n"
     ]
    },
    {
     "data": {
      "image/png": "[encoded data removed]",
      "text/plain": [
       "<Figure size 432x288 with 2 Axes>"
      ]
     },
     "metadata": {
      "needs_background": "light"
     },
     "output_type": "display_data"
    }
   ],
   "source": [
    "# Keep track of correct guesses in a confusion matrix\n",
    "confusion = torch.zeros(n_categories, n_categories)\n",
    "n_confusion = 10000\n",
    "\n",
    "# Just return an output given a line\n",
    "def evaluate(line_tensor):\n",
    "    h0, c0 = rnn.initHidden()\n",
    "\n",
    "#     for i in range(line_tensor.size()[0]):\n",
    "    output, h, c = rnn(line_tensor, h0, c0)\n",
    "\n",
    "    return output[-1]\n",
    "\n",
    "# Go through a bunch of examples and record which are correctly guessed\n",
    "for i in range(n_confusion):\n",
    "    category, line, category_tensor, line_tensor = randomTrainingExample()\n",
    "    output = evaluate(line_tensor)\n",
    "    guess, guess_i = categoryFromOutput(output)\n",
    "    category_i = all_categories.index(category)\n",
    "    confusion[category_i][guess_i] += 1\n",
    "\n",
    "# Normalize by dividing every row by its sum\n",
    "for i in range(n_categories):\n",
    "    confusion[i] = confusion[i] / confusion[i].sum()\n",
    "\n",
    "# Set up plot\n",
    "fig = plt.figure()\n",
    "ax = fig.add_subplot(111)\n",
    "cax = ax.matshow(confusion.numpy())\n",
    "fig.colorbar(cax)\n",
    "\n",
    "# Set up axes\n",
    "ax.set_xticklabels([''] + all_categories, rotation=90)\n",
    "ax.set_yticklabels([''] + all_categories)\n",
    "\n",
    "# Force label at every tick\n",
    "ax.xaxis.set_major_locator(ticker.MultipleLocator(1))\n",
    "ax.yaxis.set_major_locator(ticker.MultipleLocator(1))\n",
    "\n",
    "# sphinx_gallery_thumbnail_number = 2\n",
    "plt.show()"
   ]
  },
  {
   "cell_type": "markdown",
   "id": "b65115e1",
   "metadata": {},
   "source": [
    "You can pick out bright spots off the main axis that show which languages it guesses incorrectly, e.g. Chinese for Korean, and Spanish for Italian. It seems to do very well with Greek, and very poorly with English (perhaps because of overlap with other languages)."
   ]
  },
  {
   "cell_type": "markdown",
   "id": "dfe1c01e",
   "metadata": {},
   "source": [
    "### Running on User Input"
   ]
  },
  {
   "cell_type": "code",
   "execution_count": 16,
   "id": "23a19ee4",
   "metadata": {},
   "outputs": [
    {
     "name": "stdout",
     "output_type": "stream",
     "text": [
      "\n",
      "> Dovesky\n",
      "(0.68) Russian\n",
      "(0.25) Czech\n",
      "(0.03) English\n",
      "\n",
      "> Jackson\n",
      "(0.70) Scottish\n",
      "(0.18) English\n",
      "(0.05) Russian\n",
      "\n",
      "> Hou\n",
      "(0.49) Chinese\n",
      "(0.34) Korean\n",
      "(0.10) Vietnamese\n"
     ]
    }
   ],
   "source": [
    "import math\n",
    "import numpy as np\n",
    "\n",
    "def predict(input_line, n_predictions=3):\n",
    "    print('\\n> %s' % input_line)\n",
    "    with torch.no_grad():\n",
    "        output = evaluate(lineToTensor(input_line))\n",
    "\n",
    "        # Get top N categories\n",
    "        topv, topi = output.topk(n_predictions, 1, True)\n",
    "        predictions = []\n",
    "\n",
    "        for i in range(n_predictions):\n",
    "            value = topv[0][i].item()\n",
    "            category_index = topi[0][i].item()\n",
    "            print('(%.2f) %s' % (np.exp(value), all_categories[category_index]))\n",
    "            predictions.append([value, all_categories[category_index]])\n",
    "\n",
    "predict('Dovesky')\n",
    "predict('Jackson')\n",
    "predict('Hou')"
   ]
  },
  {
   "cell_type": "code",
   "execution_count": null,
   "id": "3a170e12",
   "metadata": {},
   "outputs": [],
   "source": []
  }
 ],
 "metadata": {
  "kernelspec": {
   "display_name": "py37",
   "language": "python",
   "name": "py37"
  },
  "language_info": {
   "codemirror_mode": {
    "name": "ipython",
    "version": 3
   },
   "file_extension": ".py",
   "mimetype": "text/x-python",
   "name": "python",
   "nbconvert_exporter": "python",
   "pygments_lexer": "ipython3",
   "version": "3.7.11"
  }
 },
 "nbformat": 4,
 "nbformat_minor": 5
}
